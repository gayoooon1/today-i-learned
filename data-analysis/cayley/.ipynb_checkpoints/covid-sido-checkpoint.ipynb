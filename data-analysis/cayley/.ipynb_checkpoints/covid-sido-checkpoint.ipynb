{
 "cells": [
  {
   "cell_type": "markdown",
   "metadata": {},
   "source": [
    "게시글번호(국내 시도별 발생현황 고유값)   \n",
    "CREATE_DT 등록일시분초 DEATH_CNT 사망자 수 GUBUN 시도명(한글) GUBUN_CN 시도명(중국어) GUBUN_EN 시도명(영어) INC_DEC 전일대비 증감 수\n",
    "ISOL_CLEAR_CNT 격리 해제 수 QUR_RATE 10만명당 발생률 STD_DAY 기준일시 UPDATE_DT 수정일시분초 DEF_CNT 확진자 수   \n",
    "ISOL_ING_CNT 격리중 환자수 OVER_FLOW_CNT 해외유입 수 LOCAL_OCC_CNT 지역발생 수 "
   ]
  },
  {
   "cell_type": "code",
   "execution_count": 247,
   "metadata": {},
   "outputs": [],
   "source": [
    "import pandas as pd\n",
    "import matplotlib.pyplot as plt\n",
    "import seaborn as sns\n",
    "import matplotlib.dates as md\n",
    "import matplotlib"
   ]
  },
  {
   "cell_type": "code",
   "execution_count": 248,
   "metadata": {},
   "outputs": [
    {
     "ename": "FileNotFoundError",
     "evalue": "[Errno 2] No such file or directory: 'covid_sido.csv'",
     "output_type": "error",
     "traceback": [
      "\u001b[1;31m---------------------------------------------------------------------------\u001b[0m",
      "\u001b[1;31mFileNotFoundError\u001b[0m                         Traceback (most recent call last)",
      "\u001b[1;32m<ipython-input-248-407498c02b36>\u001b[0m in \u001b[0;36m<module>\u001b[1;34m\u001b[0m\n\u001b[1;32m----> 1\u001b[1;33m \u001b[0mdf\u001b[0m \u001b[1;33m=\u001b[0m \u001b[0mpd\u001b[0m\u001b[1;33m.\u001b[0m\u001b[0mread_csv\u001b[0m\u001b[1;33m(\u001b[0m\u001b[1;34m'covid_sido.csv'\u001b[0m\u001b[1;33m,\u001b[0m\u001b[0mencoding\u001b[0m\u001b[1;33m=\u001b[0m\u001b[1;34m\"utf-8\"\u001b[0m\u001b[1;33m,\u001b[0m \u001b[0mindex_col\u001b[0m\u001b[1;33m=\u001b[0m\u001b[1;36m0\u001b[0m\u001b[1;33m)\u001b[0m\u001b[1;33m\u001b[0m\u001b[1;33m\u001b[0m\u001b[0m\n\u001b[0m",
      "\u001b[1;32m~\\anaconda3\\lib\\site-packages\\pandas\\io\\parsers.py\u001b[0m in \u001b[0;36mread_csv\u001b[1;34m(filepath_or_buffer, sep, delimiter, header, names, index_col, usecols, squeeze, prefix, mangle_dupe_cols, dtype, engine, converters, true_values, false_values, skipinitialspace, skiprows, skipfooter, nrows, na_values, keep_default_na, na_filter, verbose, skip_blank_lines, parse_dates, infer_datetime_format, keep_date_col, date_parser, dayfirst, cache_dates, iterator, chunksize, compression, thousands, decimal, lineterminator, quotechar, quoting, doublequote, escapechar, comment, encoding, dialect, error_bad_lines, warn_bad_lines, delim_whitespace, low_memory, memory_map, float_precision)\u001b[0m\n\u001b[0;32m    684\u001b[0m     )\n\u001b[0;32m    685\u001b[0m \u001b[1;33m\u001b[0m\u001b[0m\n\u001b[1;32m--> 686\u001b[1;33m     \u001b[1;32mreturn\u001b[0m \u001b[0m_read\u001b[0m\u001b[1;33m(\u001b[0m\u001b[0mfilepath_or_buffer\u001b[0m\u001b[1;33m,\u001b[0m \u001b[0mkwds\u001b[0m\u001b[1;33m)\u001b[0m\u001b[1;33m\u001b[0m\u001b[1;33m\u001b[0m\u001b[0m\n\u001b[0m\u001b[0;32m    687\u001b[0m \u001b[1;33m\u001b[0m\u001b[0m\n\u001b[0;32m    688\u001b[0m \u001b[1;33m\u001b[0m\u001b[0m\n",
      "\u001b[1;32m~\\anaconda3\\lib\\site-packages\\pandas\\io\\parsers.py\u001b[0m in \u001b[0;36m_read\u001b[1;34m(filepath_or_buffer, kwds)\u001b[0m\n\u001b[0;32m    450\u001b[0m \u001b[1;33m\u001b[0m\u001b[0m\n\u001b[0;32m    451\u001b[0m     \u001b[1;31m# Create the parser.\u001b[0m\u001b[1;33m\u001b[0m\u001b[1;33m\u001b[0m\u001b[1;33m\u001b[0m\u001b[0m\n\u001b[1;32m--> 452\u001b[1;33m     \u001b[0mparser\u001b[0m \u001b[1;33m=\u001b[0m \u001b[0mTextFileReader\u001b[0m\u001b[1;33m(\u001b[0m\u001b[0mfp_or_buf\u001b[0m\u001b[1;33m,\u001b[0m \u001b[1;33m**\u001b[0m\u001b[0mkwds\u001b[0m\u001b[1;33m)\u001b[0m\u001b[1;33m\u001b[0m\u001b[1;33m\u001b[0m\u001b[0m\n\u001b[0m\u001b[0;32m    453\u001b[0m \u001b[1;33m\u001b[0m\u001b[0m\n\u001b[0;32m    454\u001b[0m     \u001b[1;32mif\u001b[0m \u001b[0mchunksize\u001b[0m \u001b[1;32mor\u001b[0m \u001b[0miterator\u001b[0m\u001b[1;33m:\u001b[0m\u001b[1;33m\u001b[0m\u001b[1;33m\u001b[0m\u001b[0m\n",
      "\u001b[1;32m~\\anaconda3\\lib\\site-packages\\pandas\\io\\parsers.py\u001b[0m in \u001b[0;36m__init__\u001b[1;34m(self, f, engine, **kwds)\u001b[0m\n\u001b[0;32m    944\u001b[0m             \u001b[0mself\u001b[0m\u001b[1;33m.\u001b[0m\u001b[0moptions\u001b[0m\u001b[1;33m[\u001b[0m\u001b[1;34m\"has_index_names\"\u001b[0m\u001b[1;33m]\u001b[0m \u001b[1;33m=\u001b[0m \u001b[0mkwds\u001b[0m\u001b[1;33m[\u001b[0m\u001b[1;34m\"has_index_names\"\u001b[0m\u001b[1;33m]\u001b[0m\u001b[1;33m\u001b[0m\u001b[1;33m\u001b[0m\u001b[0m\n\u001b[0;32m    945\u001b[0m \u001b[1;33m\u001b[0m\u001b[0m\n\u001b[1;32m--> 946\u001b[1;33m         \u001b[0mself\u001b[0m\u001b[1;33m.\u001b[0m\u001b[0m_make_engine\u001b[0m\u001b[1;33m(\u001b[0m\u001b[0mself\u001b[0m\u001b[1;33m.\u001b[0m\u001b[0mengine\u001b[0m\u001b[1;33m)\u001b[0m\u001b[1;33m\u001b[0m\u001b[1;33m\u001b[0m\u001b[0m\n\u001b[0m\u001b[0;32m    947\u001b[0m \u001b[1;33m\u001b[0m\u001b[0m\n\u001b[0;32m    948\u001b[0m     \u001b[1;32mdef\u001b[0m \u001b[0mclose\u001b[0m\u001b[1;33m(\u001b[0m\u001b[0mself\u001b[0m\u001b[1;33m)\u001b[0m\u001b[1;33m:\u001b[0m\u001b[1;33m\u001b[0m\u001b[1;33m\u001b[0m\u001b[0m\n",
      "\u001b[1;32m~\\anaconda3\\lib\\site-packages\\pandas\\io\\parsers.py\u001b[0m in \u001b[0;36m_make_engine\u001b[1;34m(self, engine)\u001b[0m\n\u001b[0;32m   1176\u001b[0m     \u001b[1;32mdef\u001b[0m \u001b[0m_make_engine\u001b[0m\u001b[1;33m(\u001b[0m\u001b[0mself\u001b[0m\u001b[1;33m,\u001b[0m \u001b[0mengine\u001b[0m\u001b[1;33m=\u001b[0m\u001b[1;34m\"c\"\u001b[0m\u001b[1;33m)\u001b[0m\u001b[1;33m:\u001b[0m\u001b[1;33m\u001b[0m\u001b[1;33m\u001b[0m\u001b[0m\n\u001b[0;32m   1177\u001b[0m         \u001b[1;32mif\u001b[0m \u001b[0mengine\u001b[0m \u001b[1;33m==\u001b[0m \u001b[1;34m\"c\"\u001b[0m\u001b[1;33m:\u001b[0m\u001b[1;33m\u001b[0m\u001b[1;33m\u001b[0m\u001b[0m\n\u001b[1;32m-> 1178\u001b[1;33m             \u001b[0mself\u001b[0m\u001b[1;33m.\u001b[0m\u001b[0m_engine\u001b[0m \u001b[1;33m=\u001b[0m \u001b[0mCParserWrapper\u001b[0m\u001b[1;33m(\u001b[0m\u001b[0mself\u001b[0m\u001b[1;33m.\u001b[0m\u001b[0mf\u001b[0m\u001b[1;33m,\u001b[0m \u001b[1;33m**\u001b[0m\u001b[0mself\u001b[0m\u001b[1;33m.\u001b[0m\u001b[0moptions\u001b[0m\u001b[1;33m)\u001b[0m\u001b[1;33m\u001b[0m\u001b[1;33m\u001b[0m\u001b[0m\n\u001b[0m\u001b[0;32m   1179\u001b[0m         \u001b[1;32melse\u001b[0m\u001b[1;33m:\u001b[0m\u001b[1;33m\u001b[0m\u001b[1;33m\u001b[0m\u001b[0m\n\u001b[0;32m   1180\u001b[0m             \u001b[1;32mif\u001b[0m \u001b[0mengine\u001b[0m \u001b[1;33m==\u001b[0m \u001b[1;34m\"python\"\u001b[0m\u001b[1;33m:\u001b[0m\u001b[1;33m\u001b[0m\u001b[1;33m\u001b[0m\u001b[0m\n",
      "\u001b[1;32m~\\anaconda3\\lib\\site-packages\\pandas\\io\\parsers.py\u001b[0m in \u001b[0;36m__init__\u001b[1;34m(self, src, **kwds)\u001b[0m\n\u001b[0;32m   1989\u001b[0m         \u001b[1;32mif\u001b[0m \u001b[0mkwds\u001b[0m\u001b[1;33m.\u001b[0m\u001b[0mget\u001b[0m\u001b[1;33m(\u001b[0m\u001b[1;34m\"compression\"\u001b[0m\u001b[1;33m)\u001b[0m \u001b[1;32mis\u001b[0m \u001b[1;32mNone\u001b[0m \u001b[1;32mand\u001b[0m \u001b[0mencoding\u001b[0m\u001b[1;33m:\u001b[0m\u001b[1;33m\u001b[0m\u001b[1;33m\u001b[0m\u001b[0m\n\u001b[0;32m   1990\u001b[0m             \u001b[1;32mif\u001b[0m \u001b[0misinstance\u001b[0m\u001b[1;33m(\u001b[0m\u001b[0msrc\u001b[0m\u001b[1;33m,\u001b[0m \u001b[0mstr\u001b[0m\u001b[1;33m)\u001b[0m\u001b[1;33m:\u001b[0m\u001b[1;33m\u001b[0m\u001b[1;33m\u001b[0m\u001b[0m\n\u001b[1;32m-> 1991\u001b[1;33m                 \u001b[0msrc\u001b[0m \u001b[1;33m=\u001b[0m \u001b[0mopen\u001b[0m\u001b[1;33m(\u001b[0m\u001b[0msrc\u001b[0m\u001b[1;33m,\u001b[0m \u001b[1;34m\"rb\"\u001b[0m\u001b[1;33m)\u001b[0m\u001b[1;33m\u001b[0m\u001b[1;33m\u001b[0m\u001b[0m\n\u001b[0m\u001b[0;32m   1992\u001b[0m                 \u001b[0mself\u001b[0m\u001b[1;33m.\u001b[0m\u001b[0mhandles\u001b[0m\u001b[1;33m.\u001b[0m\u001b[0mappend\u001b[0m\u001b[1;33m(\u001b[0m\u001b[0msrc\u001b[0m\u001b[1;33m)\u001b[0m\u001b[1;33m\u001b[0m\u001b[1;33m\u001b[0m\u001b[0m\n\u001b[0;32m   1993\u001b[0m \u001b[1;33m\u001b[0m\u001b[0m\n",
      "\u001b[1;31mFileNotFoundError\u001b[0m: [Errno 2] No such file or directory: 'covid_sido.csv'"
     ]
    }
   ],
   "source": [
    "df = pd.read_csv('covid_sido.csv',encoding=\"utf-8\", index_col=0)"
   ]
  },
  {
   "cell_type": "code",
   "execution_count": 159,
   "metadata": {},
   "outputs": [
    {
     "data": {
      "text/plain": [
       "createdt           0\n",
       "deathcnt           0\n",
       "defcnt             0\n",
       "gubun             19\n",
       "incdec            19\n",
       "isolclearcnt       0\n",
       "isolingcnt         0\n",
       "localocccnt       18\n",
       "overflowcnt      108\n",
       "qurrate          686\n",
       "seq              691\n",
       "stdday           691\n",
       "updatedt        4676\n",
       "dtype: int64"
      ]
     },
     "execution_count": 159,
     "metadata": {},
     "output_type": "execute_result"
    }
   ],
   "source": [
    "df.isnull().sum()"
   ]
  },
  {
   "cell_type": "code",
   "execution_count": 68,
   "metadata": {},
   "outputs": [
    {
     "data": {
      "text/plain": [
       "4700"
      ]
     },
     "execution_count": 68,
     "metadata": {},
     "output_type": "execute_result"
    }
   ],
   "source": [
    "len(df)"
   ]
  },
  {
   "cell_type": "code",
   "execution_count": 153,
   "metadata": {},
   "outputs": [
    {
     "data": {
      "text/html": [
       "<div>\n",
       "<style scoped>\n",
       "    .dataframe tbody tr th:only-of-type {\n",
       "        vertical-align: middle;\n",
       "    }\n",
       "\n",
       "    .dataframe tbody tr th {\n",
       "        vertical-align: top;\n",
       "    }\n",
       "\n",
       "    .dataframe thead th {\n",
       "        text-align: right;\n",
       "    }\n",
       "</style>\n",
       "<table border=\"1\" class=\"dataframe\">\n",
       "  <thead>\n",
       "    <tr style=\"text-align: right;\">\n",
       "      <th></th>\n",
       "      <th>deathcnt</th>\n",
       "      <th>incdec</th>\n",
       "      <th>isolclearcnt</th>\n",
       "      <th>seq</th>\n",
       "    </tr>\n",
       "  </thead>\n",
       "  <tbody>\n",
       "    <tr>\n",
       "      <th>count</th>\n",
       "      <td>4700.000000</td>\n",
       "      <td>4681.000000</td>\n",
       "      <td>4700.000000</td>\n",
       "      <td>4009.000000</td>\n",
       "    </tr>\n",
       "    <tr>\n",
       "      <th>mean</th>\n",
       "      <td>30.098298</td>\n",
       "      <td>9.458235</td>\n",
       "      <td>1348.405851</td>\n",
       "      <td>3197.094787</td>\n",
       "    </tr>\n",
       "    <tr>\n",
       "      <th>std</th>\n",
       "      <td>76.188916</td>\n",
       "      <td>33.584611</td>\n",
       "      <td>3795.549328</td>\n",
       "      <td>1276.699940</td>\n",
       "    </tr>\n",
       "    <tr>\n",
       "      <th>min</th>\n",
       "      <td>0.000000</td>\n",
       "      <td>-1.000000</td>\n",
       "      <td>0.000000</td>\n",
       "      <td>916.000000</td>\n",
       "    </tr>\n",
       "    <tr>\n",
       "      <th>25%</th>\n",
       "      <td>0.000000</td>\n",
       "      <td>0.000000</td>\n",
       "      <td>40.000000</td>\n",
       "      <td>2074.000000</td>\n",
       "    </tr>\n",
       "    <tr>\n",
       "      <th>50%</th>\n",
       "      <td>1.000000</td>\n",
       "      <td>1.000000</td>\n",
       "      <td>134.000000</td>\n",
       "      <td>3190.000000</td>\n",
       "    </tr>\n",
       "    <tr>\n",
       "      <th>75%</th>\n",
       "      <td>6.000000</td>\n",
       "      <td>4.000000</td>\n",
       "      <td>647.250000</td>\n",
       "      <td>4325.000000</td>\n",
       "    </tr>\n",
       "    <tr>\n",
       "      <th>max</th>\n",
       "      <td>463.000000</td>\n",
       "      <td>518.000000</td>\n",
       "      <td>122282.000000</td>\n",
       "      <td>5346.000000</td>\n",
       "    </tr>\n",
       "  </tbody>\n",
       "</table>\n",
       "</div>"
      ],
      "text/plain": [
       "          deathcnt       incdec   isolclearcnt          seq\n",
       "count  4700.000000  4681.000000    4700.000000  4009.000000\n",
       "mean     30.098298     9.458235    1348.405851  3197.094787\n",
       "std      76.188916    33.584611    3795.549328  1276.699940\n",
       "min       0.000000    -1.000000       0.000000   916.000000\n",
       "25%       0.000000     0.000000      40.000000  2074.000000\n",
       "50%       1.000000     1.000000     134.000000  3190.000000\n",
       "75%       6.000000     4.000000     647.250000  4325.000000\n",
       "max     463.000000   518.000000  122282.000000  5346.000000"
      ]
     },
     "execution_count": 153,
     "metadata": {},
     "output_type": "execute_result"
    }
   ],
   "source": [
    "df.describe(include='number')"
   ]
  },
  {
   "cell_type": "code",
   "execution_count": 157,
   "metadata": {},
   "outputs": [],
   "source": [
    "df_null=df.isnull()"
   ]
  },
  {
   "cell_type": "code",
   "execution_count": 160,
   "metadata": {},
   "outputs": [
    {
     "data": {
      "text/plain": [
       "<AxesSubplot:>"
      ]
     },
     "execution_count": 160,
     "metadata": {},
     "output_type": "execute_result"
    },
    {
     "data": {
      "image/png": "[encoded data removed]",
      "text/plain": [
       "<Figure size 432x288 with 1 Axes>"
      ]
     },
     "metadata": {
      "needs_background": "light"
     },
     "output_type": "display_data"
    }
   ],
   "source": [
    "df_null.sum().plot.barh()"
   ]
  },
  {
   "cell_type": "code",
   "execution_count": 165,
   "metadata": {},
   "outputs": [
    {
     "data": {
      "text/plain": [
       "createdt         0.000000\n",
       "deathcnt         0.000000\n",
       "defcnt           0.000000\n",
       "gubun            0.404255\n",
       "incdec           0.404255\n",
       "isolclearcnt     0.000000\n",
       "isolingcnt       0.000000\n",
       "localocccnt      0.382979\n",
       "overflowcnt      2.297872\n",
       "qurrate         14.595745\n",
       "seq             14.702128\n",
       "stdday          14.702128\n",
       "updatedt        99.489362\n",
       "dtype: float64"
      ]
     },
     "execution_count": 165,
     "metadata": {},
     "output_type": "execute_result"
    }
   ],
   "source": [
    "df_null.mean() * 100"
   ]
  },
  {
   "cell_type": "code",
   "execution_count": 171,
   "metadata": {},
   "outputs": [],
   "source": [
    "#df=df.drop(['gubunen','gubuncn'], axis=1)"
   ]
  },
  {
   "cell_type": "code",
   "execution_count": 212,
   "metadata": {},
   "outputs": [
    {
     "name": "stdout",
     "output_type": "stream",
     "text": [
      "<class 'pandas.core.frame.DataFrame'>\n",
      "Int64Index: 4510 entries, 0 to 4699\n",
      "Data columns (total 13 columns):\n",
      " #   Column        Non-Null Count  Dtype         \n",
      "---  ------        --------------  -----         \n",
      " 0   createdt      4510 non-null   datetime64[ns]\n",
      " 1   deathcnt      4510 non-null   int64         \n",
      " 2   defcnt        4510 non-null   object        \n",
      " 3   gubun         4491 non-null   object        \n",
      " 4   incdec        4491 non-null   float64       \n",
      " 5   isolclearcnt  4510 non-null   float64       \n",
      " 6   isolingcnt    4510 non-null   object        \n",
      " 7   localocccnt   4492 non-null   object        \n",
      " 8   overflowcnt   4402 non-null   object        \n",
      " 9   qurrate       4014 non-null   object        \n",
      " 10  seq           4009 non-null   float64       \n",
      " 11  stdday        4009 non-null   object        \n",
      " 12  updatedt      24 non-null     object        \n",
      "dtypes: datetime64[ns](1), float64(3), int64(1), object(8)\n",
      "memory usage: 493.3+ KB\n"
     ]
    }
   ],
   "source": [
    "df.info()"
   ]
  },
  {
   "cell_type": "code",
   "execution_count": 71,
   "metadata": {},
   "outputs": [],
   "source": [
    "df['createdt']=pd.to_datetime(df['createdt'])"
   ]
  },
  {
   "cell_type": "markdown",
   "metadata": {},
   "source": [
    "## 수정작업"
   ]
  },
  {
   "cell_type": "code",
   "execution_count": 232,
   "metadata": {},
   "outputs": [
    {
     "data": {
      "text/html": [
       "<div>\n",
       "<style scoped>\n",
       "    .dataframe tbody tr th:only-of-type {\n",
       "        vertical-align: middle;\n",
       "    }\n",
       "\n",
       "    .dataframe tbody tr th {\n",
       "        vertical-align: top;\n",
       "    }\n",
       "\n",
       "    .dataframe thead th {\n",
       "        text-align: right;\n",
       "    }\n",
       "</style>\n",
       "<table border=\"1\" class=\"dataframe\">\n",
       "  <thead>\n",
       "    <tr style=\"text-align: right;\">\n",
       "      <th></th>\n",
       "      <th>createdt</th>\n",
       "      <th>deathcnt</th>\n",
       "      <th>defcnt</th>\n",
       "      <th>gubun</th>\n",
       "      <th>incdec</th>\n",
       "      <th>isolclearcnt</th>\n",
       "      <th>isolingcnt</th>\n",
       "      <th>localocccnt</th>\n",
       "      <th>overflowcnt</th>\n",
       "      <th>qurrate</th>\n",
       "      <th>seq</th>\n",
       "      <th>stdday</th>\n",
       "      <th>updatedt</th>\n",
       "    </tr>\n",
       "  </thead>\n",
       "  <tbody>\n",
       "    <tr>\n",
       "      <th>0</th>\n",
       "      <td>2020-10-30 09:32:36.376</td>\n",
       "      <td>0</td>\n",
       "      <td>1741</td>\n",
       "      <td>검역</td>\n",
       "      <td>4.0</td>\n",
       "      <td>1463.0</td>\n",
       "      <td>278</td>\n",
       "      <td>0</td>\n",
       "      <td>4</td>\n",
       "      <td>-</td>\n",
       "      <td>5346.0</td>\n",
       "      <td>2020년 10월 30일 00시</td>\n",
       "      <td>NaN</td>\n",
       "    </tr>\n",
       "    <tr>\n",
       "      <th>1</th>\n",
       "      <td>2020-10-30 09:32:36.376</td>\n",
       "      <td>0</td>\n",
       "      <td>59</td>\n",
       "      <td>제주</td>\n",
       "      <td>0.0</td>\n",
       "      <td>59.0</td>\n",
       "      <td>0</td>\n",
       "      <td>0</td>\n",
       "      <td>0</td>\n",
       "      <td>8.80</td>\n",
       "      <td>5345.0</td>\n",
       "      <td>2020년 10월 30일 00시</td>\n",
       "      <td>NaN</td>\n",
       "    </tr>\n",
       "    <tr>\n",
       "      <th>2</th>\n",
       "      <td>2020-10-30 09:32:36.376</td>\n",
       "      <td>0</td>\n",
       "      <td>315</td>\n",
       "      <td>경남</td>\n",
       "      <td>1.0</td>\n",
       "      <td>299.0</td>\n",
       "      <td>16</td>\n",
       "      <td>0</td>\n",
       "      <td>1</td>\n",
       "      <td>9.37</td>\n",
       "      <td>5344.0</td>\n",
       "      <td>2020년 10월 30일 00시</td>\n",
       "      <td>NaN</td>\n",
       "    </tr>\n",
       "    <tr>\n",
       "      <th>3</th>\n",
       "      <td>2020-10-30 09:32:36.376</td>\n",
       "      <td>57</td>\n",
       "      <td>1587</td>\n",
       "      <td>경북</td>\n",
       "      <td>0.0</td>\n",
       "      <td>1513.0</td>\n",
       "      <td>17</td>\n",
       "      <td>0</td>\n",
       "      <td>0</td>\n",
       "      <td>59.61</td>\n",
       "      <td>5343.0</td>\n",
       "      <td>2020년 10월 30일 00시</td>\n",
       "      <td>NaN</td>\n",
       "    </tr>\n",
       "    <tr>\n",
       "      <th>4</th>\n",
       "      <td>2020-10-30 09:32:36.376</td>\n",
       "      <td>2</td>\n",
       "      <td>185</td>\n",
       "      <td>전남</td>\n",
       "      <td>1.0</td>\n",
       "      <td>174.0</td>\n",
       "      <td>9</td>\n",
       "      <td>1</td>\n",
       "      <td>0</td>\n",
       "      <td>9.92</td>\n",
       "      <td>5342.0</td>\n",
       "      <td>2020년 10월 30일 00시</td>\n",
       "      <td>NaN</td>\n",
       "    </tr>\n",
       "    <tr>\n",
       "      <th>...</th>\n",
       "      <td>...</td>\n",
       "      <td>...</td>\n",
       "      <td>...</td>\n",
       "      <td>...</td>\n",
       "      <td>...</td>\n",
       "      <td>...</td>\n",
       "      <td>...</td>\n",
       "      <td>...</td>\n",
       "      <td>...</td>\n",
       "      <td>...</td>\n",
       "      <td>...</td>\n",
       "      <td>...</td>\n",
       "      <td>...</td>\n",
       "    </tr>\n",
       "    <tr>\n",
       "      <th>4004</th>\n",
       "      <td>2020-04-09 19:39:46.460</td>\n",
       "      <td>0</td>\n",
       "      <td>84</td>\n",
       "      <td>인천</td>\n",
       "      <td>0.0</td>\n",
       "      <td>31.0</td>\n",
       "      <td>53</td>\n",
       "      <td>0</td>\n",
       "      <td>0</td>\n",
       "      <td>2.84</td>\n",
       "      <td>920.0</td>\n",
       "      <td>2020년 4월 08일 00시</td>\n",
       "      <td>NaN</td>\n",
       "    </tr>\n",
       "    <tr>\n",
       "      <th>4005</th>\n",
       "      <td>2020-04-09 19:39:46.460</td>\n",
       "      <td>139</td>\n",
       "      <td>6807</td>\n",
       "      <td>대구</td>\n",
       "      <td>4.0</td>\n",
       "      <td>5106.0</td>\n",
       "      <td>1562</td>\n",
       "      <td>4</td>\n",
       "      <td>0</td>\n",
       "      <td>279.38</td>\n",
       "      <td>919.0</td>\n",
       "      <td>2020년 4월 08일 00시</td>\n",
       "      <td>NaN</td>\n",
       "    </tr>\n",
       "    <tr>\n",
       "      <th>4006</th>\n",
       "      <td>2020-04-09 19:39:46.460</td>\n",
       "      <td>3</td>\n",
       "      <td>125</td>\n",
       "      <td>부산</td>\n",
       "      <td>0.0</td>\n",
       "      <td>97.0</td>\n",
       "      <td>25</td>\n",
       "      <td>0</td>\n",
       "      <td>0</td>\n",
       "      <td>3.66</td>\n",
       "      <td>918.0</td>\n",
       "      <td>2020년 4월 08일 00시</td>\n",
       "      <td>NaN</td>\n",
       "    </tr>\n",
       "    <tr>\n",
       "      <th>4007</th>\n",
       "      <td>2020-04-09 19:39:46.460</td>\n",
       "      <td>2</td>\n",
       "      <td>590</td>\n",
       "      <td>서울</td>\n",
       "      <td>12.0</td>\n",
       "      <td>174.0</td>\n",
       "      <td>414</td>\n",
       "      <td>5</td>\n",
       "      <td>7</td>\n",
       "      <td>6.06</td>\n",
       "      <td>917.0</td>\n",
       "      <td>2020년 4월 08일 00시</td>\n",
       "      <td>NaN</td>\n",
       "    </tr>\n",
       "    <tr>\n",
       "      <th>4008</th>\n",
       "      <td>2020-04-09 19:39:46.460</td>\n",
       "      <td>204</td>\n",
       "      <td>10423</td>\n",
       "      <td>합계</td>\n",
       "      <td>39.0</td>\n",
       "      <td>6973.0</td>\n",
       "      <td>3246</td>\n",
       "      <td>16</td>\n",
       "      <td>23</td>\n",
       "      <td>20.10</td>\n",
       "      <td>916.0</td>\n",
       "      <td>2020년 4월 08일 00시</td>\n",
       "      <td>NaN</td>\n",
       "    </tr>\n",
       "  </tbody>\n",
       "</table>\n",
       "<p>4009 rows × 13 columns</p>\n",
       "</div>"
      ],
      "text/plain": [
       "                    createdt  deathcnt defcnt gubun  incdec  isolclearcnt  \\\n",
       "0    2020-10-30 09:32:36.376         0   1741    검역     4.0        1463.0   \n",
       "1    2020-10-30 09:32:36.376         0     59    제주     0.0          59.0   \n",
       "2    2020-10-30 09:32:36.376         0    315    경남     1.0         299.0   \n",
       "3    2020-10-30 09:32:36.376        57   1587    경북     0.0        1513.0   \n",
       "4    2020-10-30 09:32:36.376         2    185    전남     1.0         174.0   \n",
       "...                      ...       ...    ...   ...     ...           ...   \n",
       "4004 2020-04-09 19:39:46.460         0     84    인천     0.0          31.0   \n",
       "4005 2020-04-09 19:39:46.460       139   6807    대구     4.0        5106.0   \n",
       "4006 2020-04-09 19:39:46.460         3    125    부산     0.0          97.0   \n",
       "4007 2020-04-09 19:39:46.460         2    590    서울    12.0         174.0   \n",
       "4008 2020-04-09 19:39:46.460       204  10423    합계    39.0        6973.0   \n",
       "\n",
       "     isolingcnt localocccnt overflowcnt qurrate     seq             stdday  \\\n",
       "0           278           0           4       -  5346.0  2020년 10월 30일 00시   \n",
       "1             0           0           0    8.80  5345.0  2020년 10월 30일 00시   \n",
       "2            16           0           1    9.37  5344.0  2020년 10월 30일 00시   \n",
       "3            17           0           0   59.61  5343.0  2020년 10월 30일 00시   \n",
       "4             9           1           0    9.92  5342.0  2020년 10월 30일 00시   \n",
       "...         ...         ...         ...     ...     ...                ...   \n",
       "4004         53           0           0    2.84   920.0   2020년 4월 08일 00시   \n",
       "4005       1562           4           0  279.38   919.0   2020년 4월 08일 00시   \n",
       "4006         25           0           0    3.66   918.0   2020년 4월 08일 00시   \n",
       "4007        414           5           7    6.06   917.0   2020년 4월 08일 00시   \n",
       "4008       3246          16          23   20.10   916.0   2020년 4월 08일 00시   \n",
       "\n",
       "     updatedt  \n",
       "0         NaN  \n",
       "1         NaN  \n",
       "2         NaN  \n",
       "3         NaN  \n",
       "4         NaN  \n",
       "...       ...  \n",
       "4004      NaN  \n",
       "4005      NaN  \n",
       "4006      NaN  \n",
       "4007      NaN  \n",
       "4008      NaN  \n",
       "\n",
       "[4009 rows x 13 columns]"
      ]
     },
     "execution_count": 232,
     "metadata": {},
     "output_type": "execute_result"
    }
   ],
   "source": [
    "df=df.loc[(df['overflowcnt'].str.startswith('2020년', na=False) == False) & \n",
    "          (df['isolingcnt'].str.startswith('2020년', na=False)  == False) & \n",
    "          (df['localocccnt'].str.startswith('2020년', na=False) == False) ]\n",
    "df\n"
   ]
  },
  {
   "cell_type": "code",
   "execution_count": 233,
   "metadata": {},
   "outputs": [
    {
     "name": "stderr",
     "output_type": "stream",
     "text": [
      "C:\\Users\\Owner\\anaconda3\\lib\\site-packages\\ipykernel_launcher.py:1: SettingWithCopyWarning: \n",
      "A value is trying to be set on a copy of a slice from a DataFrame.\n",
      "Try using .loc[row_indexer,col_indexer] = value instead\n",
      "\n",
      "See the caveats in the documentation: https://pandas.pydata.org/pandas-docs/stable/user_guide/indexing.html#returning-a-view-versus-a-copy\n",
      "  \"\"\"Entry point for launching an IPython kernel.\n"
     ]
    }
   ],
   "source": [
    "df['overflowcnt']=df['overflowcnt'].astype(int)"
   ]
  },
  {
   "cell_type": "code",
   "execution_count": 237,
   "metadata": {},
   "outputs": [
    {
     "name": "stderr",
     "output_type": "stream",
     "text": [
      "C:\\Users\\Owner\\anaconda3\\lib\\site-packages\\ipykernel_launcher.py:1: SettingWithCopyWarning: \n",
      "A value is trying to be set on a copy of a slice from a DataFrame.\n",
      "Try using .loc[row_indexer,col_indexer] = value instead\n",
      "\n",
      "See the caveats in the documentation: https://pandas.pydata.org/pandas-docs/stable/user_guide/indexing.html#returning-a-view-versus-a-copy\n",
      "  \"\"\"Entry point for launching an IPython kernel.\n",
      "C:\\Users\\Owner\\anaconda3\\lib\\site-packages\\ipykernel_launcher.py:2: SettingWithCopyWarning: \n",
      "A value is trying to be set on a copy of a slice from a DataFrame.\n",
      "Try using .loc[row_indexer,col_indexer] = value instead\n",
      "\n",
      "See the caveats in the documentation: https://pandas.pydata.org/pandas-docs/stable/user_guide/indexing.html#returning-a-view-versus-a-copy\n",
      "  \n",
      "C:\\Users\\Owner\\anaconda3\\lib\\site-packages\\ipykernel_launcher.py:3: SettingWithCopyWarning: \n",
      "A value is trying to be set on a copy of a slice from a DataFrame.\n",
      "Try using .loc[row_indexer,col_indexer] = value instead\n",
      "\n",
      "See the caveats in the documentation: https://pandas.pydata.org/pandas-docs/stable/user_guide/indexing.html#returning-a-view-versus-a-copy\n",
      "  This is separate from the ipykernel package so we can avoid doing imports until\n"
     ]
    }
   ],
   "source": [
    "df['isolingcnt']=df['isolingcnt'].astype(int)\n",
    "df['localocccnt']=df['localocccnt'].astype(int)\n",
    "df['defcnt']=df['defcnt'].astype(int)"
   ]
  },
  {
   "cell_type": "code",
   "execution_count": 238,
   "metadata": {},
   "outputs": [
    {
     "name": "stdout",
     "output_type": "stream",
     "text": [
      "<class 'pandas.core.frame.DataFrame'>\n",
      "Int64Index: 4009 entries, 0 to 4008\n",
      "Data columns (total 13 columns):\n",
      " #   Column        Non-Null Count  Dtype         \n",
      "---  ------        --------------  -----         \n",
      " 0   createdt      4009 non-null   datetime64[ns]\n",
      " 1   deathcnt      4009 non-null   int64         \n",
      " 2   defcnt        4009 non-null   int32         \n",
      " 3   gubun         4009 non-null   object        \n",
      " 4   incdec        4009 non-null   float64       \n",
      " 5   isolclearcnt  4009 non-null   float64       \n",
      " 6   isolingcnt    4009 non-null   int32         \n",
      " 7   localocccnt   4009 non-null   int32         \n",
      " 8   overflowcnt   4009 non-null   int32         \n",
      " 9   qurrate       4009 non-null   object        \n",
      " 10  seq           4009 non-null   float64       \n",
      " 11  stdday        4009 non-null   object        \n",
      " 12  updatedt      24 non-null     object        \n",
      "dtypes: datetime64[ns](1), float64(3), int32(4), int64(1), object(4)\n",
      "memory usage: 375.8+ KB\n"
     ]
    }
   ],
   "source": [
    "df.info()"
   ]
  },
  {
   "cell_type": "code",
   "execution_count": 244,
   "metadata": {},
   "outputs": [
    {
     "data": {
      "text/html": [
       "<div>\n",
       "<style scoped>\n",
       "    .dataframe tbody tr th:only-of-type {\n",
       "        vertical-align: middle;\n",
       "    }\n",
       "\n",
       "    .dataframe tbody tr th {\n",
       "        vertical-align: top;\n",
       "    }\n",
       "\n",
       "    .dataframe thead th {\n",
       "        text-align: right;\n",
       "    }\n",
       "</style>\n",
       "<table border=\"1\" class=\"dataframe\">\n",
       "  <thead>\n",
       "    <tr style=\"text-align: right;\">\n",
       "      <th></th>\n",
       "      <th>createdt</th>\n",
       "      <th>deathcnt</th>\n",
       "      <th>defcnt</th>\n",
       "      <th>gubun</th>\n",
       "      <th>incdec</th>\n",
       "      <th>isolclearcnt</th>\n",
       "      <th>isolingcnt</th>\n",
       "      <th>localocccnt</th>\n",
       "      <th>overflowcnt</th>\n",
       "      <th>qurrate</th>\n",
       "      <th>seq</th>\n",
       "      <th>stdday</th>\n",
       "      <th>updatedt</th>\n",
       "    </tr>\n",
       "  </thead>\n",
       "  <tbody>\n",
       "    <tr>\n",
       "      <th>4008</th>\n",
       "      <td>2020-04-09 19:39:46.460</td>\n",
       "      <td>204</td>\n",
       "      <td>10423</td>\n",
       "      <td>합계</td>\n",
       "      <td>39.0</td>\n",
       "      <td>6973.0</td>\n",
       "      <td>3246</td>\n",
       "      <td>16</td>\n",
       "      <td>23</td>\n",
       "      <td>20.10</td>\n",
       "      <td>916.0</td>\n",
       "      <td>2020년 4월 08일 00시</td>\n",
       "      <td>NaN</td>\n",
       "    </tr>\n",
       "    <tr>\n",
       "      <th>3990</th>\n",
       "      <td>2020-04-09 19:39:46.460</td>\n",
       "      <td>0</td>\n",
       "      <td>348</td>\n",
       "      <td>검역</td>\n",
       "      <td>10.0</td>\n",
       "      <td>3.0</td>\n",
       "      <td>345</td>\n",
       "      <td>0</td>\n",
       "      <td>10</td>\n",
       "      <td>-</td>\n",
       "      <td>934.0</td>\n",
       "      <td>2020년 4월 08일 00시</td>\n",
       "      <td>NaN</td>\n",
       "    </tr>\n",
       "    <tr>\n",
       "      <th>3991</th>\n",
       "      <td>2020-04-09 19:39:46.460</td>\n",
       "      <td>0</td>\n",
       "      <td>12</td>\n",
       "      <td>제주</td>\n",
       "      <td>0.0</td>\n",
       "      <td>4.0</td>\n",
       "      <td>8</td>\n",
       "      <td>0</td>\n",
       "      <td>0</td>\n",
       "      <td>1.79</td>\n",
       "      <td>933.0</td>\n",
       "      <td>2020년 4월 08일 00시</td>\n",
       "      <td>NaN</td>\n",
       "    </tr>\n",
       "    <tr>\n",
       "      <th>3992</th>\n",
       "      <td>2020-04-09 19:39:46.460</td>\n",
       "      <td>0</td>\n",
       "      <td>115</td>\n",
       "      <td>경남</td>\n",
       "      <td>2.0</td>\n",
       "      <td>82.0</td>\n",
       "      <td>33</td>\n",
       "      <td>1</td>\n",
       "      <td>1</td>\n",
       "      <td>3.42</td>\n",
       "      <td>932.0</td>\n",
       "      <td>2020년 4월 08일 00시</td>\n",
       "      <td>NaN</td>\n",
       "    </tr>\n",
       "    <tr>\n",
       "      <th>3993</th>\n",
       "      <td>2020-04-09 19:39:46.460</td>\n",
       "      <td>47</td>\n",
       "      <td>1320</td>\n",
       "      <td>경북</td>\n",
       "      <td>0.0</td>\n",
       "      <td>968.0</td>\n",
       "      <td>305</td>\n",
       "      <td>0</td>\n",
       "      <td>0</td>\n",
       "      <td>49.58</td>\n",
       "      <td>931.0</td>\n",
       "      <td>2020년 4월 08일 00시</td>\n",
       "      <td>NaN</td>\n",
       "    </tr>\n",
       "    <tr>\n",
       "      <th>...</th>\n",
       "      <td>...</td>\n",
       "      <td>...</td>\n",
       "      <td>...</td>\n",
       "      <td>...</td>\n",
       "      <td>...</td>\n",
       "      <td>...</td>\n",
       "      <td>...</td>\n",
       "      <td>...</td>\n",
       "      <td>...</td>\n",
       "      <td>...</td>\n",
       "      <td>...</td>\n",
       "      <td>...</td>\n",
       "      <td>...</td>\n",
       "    </tr>\n",
       "    <tr>\n",
       "      <th>4</th>\n",
       "      <td>2020-10-30 09:32:36.376</td>\n",
       "      <td>2</td>\n",
       "      <td>185</td>\n",
       "      <td>전남</td>\n",
       "      <td>1.0</td>\n",
       "      <td>174.0</td>\n",
       "      <td>9</td>\n",
       "      <td>1</td>\n",
       "      <td>0</td>\n",
       "      <td>9.92</td>\n",
       "      <td>5342.0</td>\n",
       "      <td>2020년 10월 30일 00시</td>\n",
       "      <td>NaN</td>\n",
       "    </tr>\n",
       "    <tr>\n",
       "      <th>3</th>\n",
       "      <td>2020-10-30 09:32:36.376</td>\n",
       "      <td>57</td>\n",
       "      <td>1587</td>\n",
       "      <td>경북</td>\n",
       "      <td>0.0</td>\n",
       "      <td>1513.0</td>\n",
       "      <td>17</td>\n",
       "      <td>0</td>\n",
       "      <td>0</td>\n",
       "      <td>59.61</td>\n",
       "      <td>5343.0</td>\n",
       "      <td>2020년 10월 30일 00시</td>\n",
       "      <td>NaN</td>\n",
       "    </tr>\n",
       "    <tr>\n",
       "      <th>2</th>\n",
       "      <td>2020-10-30 09:32:36.376</td>\n",
       "      <td>0</td>\n",
       "      <td>315</td>\n",
       "      <td>경남</td>\n",
       "      <td>1.0</td>\n",
       "      <td>299.0</td>\n",
       "      <td>16</td>\n",
       "      <td>0</td>\n",
       "      <td>1</td>\n",
       "      <td>9.37</td>\n",
       "      <td>5344.0</td>\n",
       "      <td>2020년 10월 30일 00시</td>\n",
       "      <td>NaN</td>\n",
       "    </tr>\n",
       "    <tr>\n",
       "      <th>1</th>\n",
       "      <td>2020-10-30 09:32:36.376</td>\n",
       "      <td>0</td>\n",
       "      <td>59</td>\n",
       "      <td>제주</td>\n",
       "      <td>0.0</td>\n",
       "      <td>59.0</td>\n",
       "      <td>0</td>\n",
       "      <td>0</td>\n",
       "      <td>0</td>\n",
       "      <td>8.80</td>\n",
       "      <td>5345.0</td>\n",
       "      <td>2020년 10월 30일 00시</td>\n",
       "      <td>NaN</td>\n",
       "    </tr>\n",
       "    <tr>\n",
       "      <th>0</th>\n",
       "      <td>2020-10-30 09:32:36.376</td>\n",
       "      <td>0</td>\n",
       "      <td>1741</td>\n",
       "      <td>검역</td>\n",
       "      <td>4.0</td>\n",
       "      <td>1463.0</td>\n",
       "      <td>278</td>\n",
       "      <td>0</td>\n",
       "      <td>4</td>\n",
       "      <td>-</td>\n",
       "      <td>5346.0</td>\n",
       "      <td>2020년 10월 30일 00시</td>\n",
       "      <td>NaN</td>\n",
       "    </tr>\n",
       "  </tbody>\n",
       "</table>\n",
       "<p>4009 rows × 13 columns</p>\n",
       "</div>"
      ],
      "text/plain": [
       "                    createdt  deathcnt  defcnt gubun  incdec  isolclearcnt  \\\n",
       "4008 2020-04-09 19:39:46.460       204   10423    합계    39.0        6973.0   \n",
       "3990 2020-04-09 19:39:46.460         0     348    검역    10.0           3.0   \n",
       "3991 2020-04-09 19:39:46.460         0      12    제주     0.0           4.0   \n",
       "3992 2020-04-09 19:39:46.460         0     115    경남     2.0          82.0   \n",
       "3993 2020-04-09 19:39:46.460        47    1320    경북     0.0         968.0   \n",
       "...                      ...       ...     ...   ...     ...           ...   \n",
       "4    2020-10-30 09:32:36.376         2     185    전남     1.0         174.0   \n",
       "3    2020-10-30 09:32:36.376        57    1587    경북     0.0        1513.0   \n",
       "2    2020-10-30 09:32:36.376         0     315    경남     1.0         299.0   \n",
       "1    2020-10-30 09:32:36.376         0      59    제주     0.0          59.0   \n",
       "0    2020-10-30 09:32:36.376         0    1741    검역     4.0        1463.0   \n",
       "\n",
       "      isolingcnt  localocccnt  overflowcnt qurrate     seq             stdday  \\\n",
       "4008        3246           16           23   20.10   916.0   2020년 4월 08일 00시   \n",
       "3990         345            0           10       -   934.0   2020년 4월 08일 00시   \n",
       "3991           8            0            0    1.79   933.0   2020년 4월 08일 00시   \n",
       "3992          33            1            1    3.42   932.0   2020년 4월 08일 00시   \n",
       "3993         305            0            0   49.58   931.0   2020년 4월 08일 00시   \n",
       "...          ...          ...          ...     ...     ...                ...   \n",
       "4              9            1            0    9.92  5342.0  2020년 10월 30일 00시   \n",
       "3             17            0            0   59.61  5343.0  2020년 10월 30일 00시   \n",
       "2             16            0            1    9.37  5344.0  2020년 10월 30일 00시   \n",
       "1              0            0            0    8.80  5345.0  2020년 10월 30일 00시   \n",
       "0            278            0            4       -  5346.0  2020년 10월 30일 00시   \n",
       "\n",
       "     updatedt  \n",
       "4008      NaN  \n",
       "3990      NaN  \n",
       "3991      NaN  \n",
       "3992      NaN  \n",
       "3993      NaN  \n",
       "...       ...  \n",
       "4         NaN  \n",
       "3         NaN  \n",
       "2         NaN  \n",
       "1         NaN  \n",
       "0         NaN  \n",
       "\n",
       "[4009 rows x 13 columns]"
      ]
     },
     "execution_count": 244,
     "metadata": {},
     "output_type": "execute_result"
    }
   ],
   "source": [
    "df.sort_values('createdt')"
   ]
  },
  {
   "cell_type": "code",
   "execution_count": 239,
   "metadata": {},
   "outputs": [
    {
     "data": {
      "text/plain": [
       "createdt           0\n",
       "deathcnt           0\n",
       "defcnt             0\n",
       "gubun              0\n",
       "incdec             0\n",
       "isolclearcnt       0\n",
       "isolingcnt         0\n",
       "localocccnt        0\n",
       "overflowcnt        0\n",
       "qurrate            0\n",
       "seq                0\n",
       "stdday             0\n",
       "updatedt        3985\n",
       "dtype: int64"
      ]
     },
     "execution_count": 239,
     "metadata": {},
     "output_type": "execute_result"
    }
   ],
   "source": [
    "df.isnull().sum()"
   ]
  },
  {
   "cell_type": "markdown",
   "metadata": {},
   "source": [
    "게시글번호(국내 시도별 발생현황 고유값)\n",
    "CREATE_DT 등록일시분초 DEATH_CNT 사망자 수 GUBUN 시도명(한글) GUBUN_CN 시도명(중국어) GUBUN_EN 시도명(영어) INC_DEC 전일대비 증감 수 ISOL_CLEAR_CNT 격리 해제 수 QUR_RATE 10만명당 발생률 STD_DAY 기준일시 UPDATE_DT 수정일시분초 DEF_CNT 확진자 수\n",
    "ISOL_ING_CNT 격리중 환자수 OVER_FLOW_CNT 해외유입 수 LOCAL_OCC_CNT 지역발생 수"
   ]
  },
  {
   "cell_type": "code",
   "execution_count": 148,
   "metadata": {},
   "outputs": [],
   "source": [
    "#df.sort_values(by='createdt')"
   ]
  },
  {
   "cell_type": "code",
   "execution_count": 241,
   "metadata": {},
   "outputs": [],
   "source": [
    "from datetime import datetime"
   ]
  },
  {
   "cell_type": "code",
   "execution_count": 242,
   "metadata": {},
   "outputs": [
    {
     "data": {
      "text/html": [
       "<div>\n",
       "<style scoped>\n",
       "    .dataframe tbody tr th:only-of-type {\n",
       "        vertical-align: middle;\n",
       "    }\n",
       "\n",
       "    .dataframe tbody tr th {\n",
       "        vertical-align: top;\n",
       "    }\n",
       "\n",
       "    .dataframe thead th {\n",
       "        text-align: right;\n",
       "    }\n",
       "</style>\n",
       "<table border=\"1\" class=\"dataframe\">\n",
       "  <thead>\n",
       "    <tr style=\"text-align: right;\">\n",
       "      <th></th>\n",
       "      <th>createdt</th>\n",
       "      <th>deathcnt</th>\n",
       "      <th>defcnt</th>\n",
       "      <th>gubun</th>\n",
       "      <th>incdec</th>\n",
       "      <th>isolclearcnt</th>\n",
       "      <th>isolingcnt</th>\n",
       "      <th>localocccnt</th>\n",
       "      <th>overflowcnt</th>\n",
       "      <th>qurrate</th>\n",
       "      <th>seq</th>\n",
       "      <th>stdday</th>\n",
       "      <th>updatedt</th>\n",
       "    </tr>\n",
       "  </thead>\n",
       "  <tbody>\n",
       "  </tbody>\n",
       "</table>\n",
       "</div>"
      ],
      "text/plain": [
       "Empty DataFrame\n",
       "Columns: [createdt, deathcnt, defcnt, gubun, incdec, isolclearcnt, isolingcnt, localocccnt, overflowcnt, qurrate, seq, stdday, updatedt]\n",
       "Index: []"
      ]
     },
     "execution_count": 242,
     "metadata": {},
     "output_type": "execute_result"
    }
   ],
   "source": [
    "df2 = df[(df['createdt'] >= datetime(2020, 3, 2)) & (df['createdt'] <= datetime(2020, 3, 31))]\n",
    "df2.sort_values(by='createdt')"
   ]
  },
  {
   "cell_type": "code",
   "execution_count": 77,
   "metadata": {},
   "outputs": [
    {
     "data": {
      "text/plain": [
       "createdt          0\n",
       "deathcnt          0\n",
       "defcnt            0\n",
       "gubun            19\n",
       "incdec           19\n",
       "isolclearcnt      0\n",
       "isolingcnt        0\n",
       "localocccnt      18\n",
       "overflowcnt     108\n",
       "qurrate         515\n",
       "seq             520\n",
       "stdday          520\n",
       "updatedt        520\n",
       "dtype: int64"
      ]
     },
     "execution_count": 77,
     "metadata": {},
     "output_type": "execute_result"
    }
   ],
   "source": [
    "df2.isnull().sum()"
   ]
  },
  {
   "cell_type": "code",
   "execution_count": 78,
   "metadata": {},
   "outputs": [
    {
     "data": {
      "text/plain": [
       "createdt          0\n",
       "deathcnt          0\n",
       "defcnt            0\n",
       "gubun             0\n",
       "incdec            0\n",
       "isolclearcnt      0\n",
       "isolingcnt        0\n",
       "localocccnt       0\n",
       "overflowcnt      89\n",
       "qurrate         496\n",
       "seq             501\n",
       "stdday          501\n",
       "updatedt        501\n",
       "dtype: int64"
      ]
     },
     "execution_count": 78,
     "metadata": {},
     "output_type": "execute_result"
    }
   ],
   "source": [
    "df2=df2.loc[df2['gubun'].isnull()== False]\n",
    "df2.isnull().sum()"
   ]
  },
  {
   "cell_type": "code",
   "execution_count": 79,
   "metadata": {},
   "outputs": [
    {
     "data": {
      "text/plain": [
       "501"
      ]
     },
     "execution_count": 79,
     "metadata": {},
     "output_type": "execute_result"
    }
   ],
   "source": [
    "len(df2)"
   ]
  },
  {
   "cell_type": "code",
   "execution_count": 80,
   "metadata": {},
   "outputs": [
    {
     "data": {
      "text/html": [
       "<div>\n",
       "<style scoped>\n",
       "    .dataframe tbody tr th:only-of-type {\n",
       "        vertical-align: middle;\n",
       "    }\n",
       "\n",
       "    .dataframe tbody tr th {\n",
       "        vertical-align: top;\n",
       "    }\n",
       "\n",
       "    .dataframe thead th {\n",
       "        text-align: right;\n",
       "    }\n",
       "</style>\n",
       "<table border=\"1\" class=\"dataframe\">\n",
       "  <thead>\n",
       "    <tr style=\"text-align: right;\">\n",
       "      <th></th>\n",
       "      <th>createdt</th>\n",
       "      <th>deathcnt</th>\n",
       "      <th>defcnt</th>\n",
       "      <th>gubun</th>\n",
       "      <th>incdec</th>\n",
       "      <th>isolclearcnt</th>\n",
       "      <th>isolingcnt</th>\n",
       "      <th>localocccnt</th>\n",
       "      <th>overflowcnt</th>\n",
       "    </tr>\n",
       "  </thead>\n",
       "  <tbody>\n",
       "    <tr>\n",
       "      <th>4180</th>\n",
       "      <td>2020-03-30 10:29:47.470</td>\n",
       "      <td>0</td>\n",
       "      <td>202</td>\n",
       "      <td>검역</td>\n",
       "      <td>13.0</td>\n",
       "      <td>0.0</td>\n",
       "      <td>-</td>\n",
       "      <td>725</td>\n",
       "      <td>2020년 03월 30일 00시</td>\n",
       "    </tr>\n",
       "    <tr>\n",
       "      <th>4181</th>\n",
       "      <td>2020-03-30 10:29:47.470</td>\n",
       "      <td>0</td>\n",
       "      <td>9</td>\n",
       "      <td>제주</td>\n",
       "      <td>1.0</td>\n",
       "      <td>4.0</td>\n",
       "      <td>1.34</td>\n",
       "      <td>724</td>\n",
       "      <td>2020년 03월 30일 00시</td>\n",
       "    </tr>\n",
       "    <tr>\n",
       "      <th>4182</th>\n",
       "      <td>2020-03-30 10:29:47.470</td>\n",
       "      <td>0</td>\n",
       "      <td>95</td>\n",
       "      <td>경남</td>\n",
       "      <td>1.0</td>\n",
       "      <td>65.0</td>\n",
       "      <td>2.83</td>\n",
       "      <td>723</td>\n",
       "      <td>2020년 03월 30일 00시</td>\n",
       "    </tr>\n",
       "    <tr>\n",
       "      <th>4183</th>\n",
       "      <td>2020-03-30 10:29:47.470</td>\n",
       "      <td>38</td>\n",
       "      <td>1298</td>\n",
       "      <td>경북</td>\n",
       "      <td>11.0</td>\n",
       "      <td>772.0</td>\n",
       "      <td>48.75</td>\n",
       "      <td>722</td>\n",
       "      <td>2020년 03월 30일 00시</td>\n",
       "    </tr>\n",
       "    <tr>\n",
       "      <th>4184</th>\n",
       "      <td>2020-03-30 10:29:47.470</td>\n",
       "      <td>0</td>\n",
       "      <td>9</td>\n",
       "      <td>전남</td>\n",
       "      <td>0.0</td>\n",
       "      <td>3.0</td>\n",
       "      <td>0.48</td>\n",
       "      <td>721</td>\n",
       "      <td>2020년 03월 30일 00시</td>\n",
       "    </tr>\n",
       "    <tr>\n",
       "      <th>...</th>\n",
       "      <td>...</td>\n",
       "      <td>...</td>\n",
       "      <td>...</td>\n",
       "      <td>...</td>\n",
       "      <td>...</td>\n",
       "      <td>...</td>\n",
       "      <td>...</td>\n",
       "      <td>...</td>\n",
       "      <td>...</td>\n",
       "    </tr>\n",
       "    <tr>\n",
       "      <th>4676</th>\n",
       "      <td>2020-03-04 19:44:27.270</td>\n",
       "      <td>0</td>\n",
       "      <td>9</td>\n",
       "      <td>인천</td>\n",
       "      <td>2.0</td>\n",
       "      <td>0.3</td>\n",
       "      <td>24</td>\n",
       "      <td>2020년 3월 4일 00시</td>\n",
       "      <td>NaN</td>\n",
       "    </tr>\n",
       "    <tr>\n",
       "      <th>4677</th>\n",
       "      <td>2020-03-04 19:44:27.270</td>\n",
       "      <td>24</td>\n",
       "      <td>4006</td>\n",
       "      <td>대구</td>\n",
       "      <td>405.0</td>\n",
       "      <td>164.4</td>\n",
       "      <td>23</td>\n",
       "      <td>2020년 3월 4일 00시</td>\n",
       "      <td>NaN</td>\n",
       "    </tr>\n",
       "    <tr>\n",
       "      <th>4678</th>\n",
       "      <td>2020-03-04 19:44:27.270</td>\n",
       "      <td>1</td>\n",
       "      <td>93</td>\n",
       "      <td>부산</td>\n",
       "      <td>3.0</td>\n",
       "      <td>2.7</td>\n",
       "      <td>22</td>\n",
       "      <td>2020년 3월 4일 00시</td>\n",
       "      <td>NaN</td>\n",
       "    </tr>\n",
       "    <tr>\n",
       "      <th>4679</th>\n",
       "      <td>2020-03-04 19:44:27.270</td>\n",
       "      <td>0</td>\n",
       "      <td>99</td>\n",
       "      <td>서울</td>\n",
       "      <td>1.0</td>\n",
       "      <td>1.0</td>\n",
       "      <td>21</td>\n",
       "      <td>2020년 3월 4일 00시</td>\n",
       "      <td>NaN</td>\n",
       "    </tr>\n",
       "    <tr>\n",
       "      <th>4680</th>\n",
       "      <td>2020-03-04 19:44:27.270</td>\n",
       "      <td>32</td>\n",
       "      <td>5328</td>\n",
       "      <td>합계</td>\n",
       "      <td>516.0</td>\n",
       "      <td>10.3</td>\n",
       "      <td>20</td>\n",
       "      <td>2020년 3월 4일 00시</td>\n",
       "      <td>NaN</td>\n",
       "    </tr>\n",
       "  </tbody>\n",
       "</table>\n",
       "<p>501 rows × 9 columns</p>\n",
       "</div>"
      ],
      "text/plain": [
       "                    createdt  deathcnt defcnt gubun  incdec  isolclearcnt  \\\n",
       "4180 2020-03-30 10:29:47.470         0    202    검역    13.0           0.0   \n",
       "4181 2020-03-30 10:29:47.470         0      9    제주     1.0           4.0   \n",
       "4182 2020-03-30 10:29:47.470         0     95    경남     1.0          65.0   \n",
       "4183 2020-03-30 10:29:47.470        38   1298    경북    11.0         772.0   \n",
       "4184 2020-03-30 10:29:47.470         0      9    전남     0.0           3.0   \n",
       "...                      ...       ...    ...   ...     ...           ...   \n",
       "4676 2020-03-04 19:44:27.270         0      9    인천     2.0           0.3   \n",
       "4677 2020-03-04 19:44:27.270        24   4006    대구   405.0         164.4   \n",
       "4678 2020-03-04 19:44:27.270         1     93    부산     3.0           2.7   \n",
       "4679 2020-03-04 19:44:27.270         0     99    서울     1.0           1.0   \n",
       "4680 2020-03-04 19:44:27.270        32   5328    합계   516.0          10.3   \n",
       "\n",
       "     isolingcnt      localocccnt        overflowcnt  \n",
       "4180          -              725  2020년 03월 30일 00시  \n",
       "4181       1.34              724  2020년 03월 30일 00시  \n",
       "4182       2.83              723  2020년 03월 30일 00시  \n",
       "4183      48.75              722  2020년 03월 30일 00시  \n",
       "4184       0.48              721  2020년 03월 30일 00시  \n",
       "...         ...              ...                ...  \n",
       "4676         24  2020년 3월 4일 00시                NaN  \n",
       "4677         23  2020년 3월 4일 00시                NaN  \n",
       "4678         22  2020년 3월 4일 00시                NaN  \n",
       "4679         21  2020년 3월 4일 00시                NaN  \n",
       "4680         20  2020년 3월 4일 00시                NaN  \n",
       "\n",
       "[501 rows x 9 columns]"
      ]
     },
     "execution_count": 80,
     "metadata": {},
     "output_type": "execute_result"
    }
   ],
   "source": [
    "df2=df2.drop(['seq','stdday','updatedt','qurrate'],axis=1)\n",
    "df2"
   ]
  },
  {
   "cell_type": "code",
   "execution_count": 81,
   "metadata": {},
   "outputs": [
    {
     "name": "stdout",
     "output_type": "stream",
     "text": [
      "<class 'pandas.core.frame.DataFrame'>\n",
      "Int64Index: 501 entries, 4180 to 4680\n",
      "Data columns (total 9 columns):\n",
      " #   Column        Non-Null Count  Dtype         \n",
      "---  ------        --------------  -----         \n",
      " 0   createdt      501 non-null    datetime64[ns]\n",
      " 1   deathcnt      501 non-null    int64         \n",
      " 2   defcnt        501 non-null    object        \n",
      " 3   gubun         501 non-null    object        \n",
      " 4   incdec        501 non-null    float64       \n",
      " 5   isolclearcnt  501 non-null    float64       \n",
      " 6   isolingcnt    501 non-null    object        \n",
      " 7   localocccnt   501 non-null    object        \n",
      " 8   overflowcnt   412 non-null    object        \n",
      "dtypes: datetime64[ns](1), float64(2), int64(1), object(5)\n",
      "memory usage: 39.1+ KB\n"
     ]
    }
   ],
   "source": [
    "df2.info()"
   ]
  },
  {
   "cell_type": "code",
   "execution_count": 82,
   "metadata": {},
   "outputs": [],
   "source": [
    "df2['defcnt']=df2['defcnt'].astype(int)\n",
    "df2['isolingcnt']=df2['defcnt'].astype(int)"
   ]
  },
  {
   "cell_type": "code",
   "execution_count": 86,
   "metadata": {},
   "outputs": [
    {
     "name": "stdout",
     "output_type": "stream",
     "text": [
      "<class 'pandas.core.frame.DataFrame'>\n",
      "Int64Index: 501 entries, 4180 to 4680\n",
      "Data columns (total 9 columns):\n",
      " #   Column        Non-Null Count  Dtype         \n",
      "---  ------        --------------  -----         \n",
      " 0   createdt      501 non-null    datetime64[ns]\n",
      " 1   deathcnt      501 non-null    int64         \n",
      " 2   defcnt        501 non-null    int32         \n",
      " 3   gubun         501 non-null    object        \n",
      " 4   incdec        501 non-null    float64       \n",
      " 5   isolclearcnt  501 non-null    float64       \n",
      " 6   isolingcnt    501 non-null    int32         \n",
      " 7   localocccnt   501 non-null    object        \n",
      " 8   overflowcnt   412 non-null    object        \n",
      "dtypes: datetime64[ns](1), float64(2), int32(2), int64(1), object(3)\n",
      "memory usage: 55.2+ KB\n"
     ]
    }
   ],
   "source": [
    "df2.info()"
   ]
  },
  {
   "cell_type": "code",
   "execution_count": 120,
   "metadata": {},
   "outputs": [],
   "source": [
    "df_total = df[df['gubun'] == '합계']"
   ]
  },
  {
   "cell_type": "code",
   "execution_count": 119,
   "metadata": {},
   "outputs": [],
   "source": [
    "df3_total = df2[df2['gubun'] == '합계']\n",
    "#df3_total"
   ]
  },
  {
   "cell_type": "code",
   "execution_count": 122,
   "metadata": {},
   "outputs": [
    {
     "data": {
      "text/plain": [
       "array(['검역', '제주', '경남', '경북', '전남', '전북', '충남', '충북', '강원', '경기', '세종',\n",
       "       '울산', '대전', '광주', '인천', '대구', '부산', '서울', '합계', nan], dtype=object)"
      ]
     },
     "execution_count": 122,
     "metadata": {},
     "output_type": "execute_result"
    }
   ],
   "source": [
    "df['gubun'].unique()"
   ]
  },
  {
   "cell_type": "code",
   "execution_count": 123,
   "metadata": {},
   "outputs": [],
   "source": [
    "df3_jj = df2[df2['gubun'] == '제주']\n",
    "df3_kn = df2[df2['gubun'] == '경남']\n",
    "df3_kb = df2[df2['gubun'] == '경북']\n",
    "df3_jn = df2[df2['gubun'] == '전남']\n",
    "df3_jb = df2[df2['gubun'] == '전북']\n",
    "df3_cn = df2[df2['gubun'] == '충남']\n",
    "df3_cb = df2[df2['gubun'] == '충북']\n",
    "df3_kw = df2[df2['gubun'] == '강원']\n",
    "df3_kk = df2[df2['gubun'] == '경기']\n",
    "df3_sj = df2[df2['gubun'] == '세종']\n",
    "df3_us = df2[df2['gubun'] == '울산']\n",
    "df3_dj = df2[df2['gubun'] == '대전']\n",
    "df3_kj = df2[df2['gubun'] == '광주']\n",
    "df3_ic = df2[df2['gubun'] == '인천']\n",
    "df3_dg = df2[df2['gubun'] == '대구']\n",
    "df3_bs = df2[df2['gubun'] == '부산']\n",
    "df3_sl = df2[df2['gubun'] == '서울']"
   ]
  },
  {
   "cell_type": "code",
   "execution_count": 116,
   "metadata": {},
   "outputs": [
    {
     "name": "stdout",
     "output_type": "stream",
     "text": [
      "['NanumBarunGothic']\n"
     ]
    }
   ],
   "source": [
    "# matplotlib 폰트설정\n",
    "# plt.rc('font', family='NanumGothicOTF') # For MacOS\n",
    "plt.rc('font', family='NanumBarunGothic') # For Windows\n",
    "print(plt.rcParams['font.family'])"
   ]
  },
  {
   "cell_type": "code",
   "execution_count": 130,
   "metadata": {},
   "outputs": [
    {
     "data": {
      "text/plain": [
       "1683"
      ]
     },
     "execution_count": 130,
     "metadata": {},
     "output_type": "execute_result"
    }
   ],
   "source": [
    "df3_dg['deathcnt'].sum()"
   ]
  },
  {
   "cell_type": "code",
   "execution_count": 201,
   "metadata": {},
   "outputs": [
    {
     "data": {
      "image/png": "[encoded data removed]",
      "text/plain": [
       "<Figure size 720x576 with 1 Axes>"
      ]
     },
     "metadata": {
      "needs_background": "light"
     },
     "output_type": "display_data"
    }
   ],
   "source": [
    "#sns.lmplot(x='createdt', y='deathcnt', hue= 'gubun',data=df2)\n",
    "gubun=['대구','제주', '경남', '경북', '전남', '전북', '충남', '충북', '강원', '경기', '세종',\n",
    "       '울산', '대전', '광주', '인천',  '부산', '서울']\n",
    "plt.figure(figsize=(10,8))\n",
    "plt.plot(df3_dg['createdt'], df3_dg['localocccnt'] ,label=gubun[0])\n",
    "plt.plot(df3_jj['createdt'], df3_jj['localocccnt'] ,label=gubun[1])\n",
    "plt.plot(df3_kn['createdt'], df3_kn['localocccnt'] ,label=gubun[2]) \n",
    "plt.plot(df3_kb['createdt'], df3_kb['localocccnt'] ,label=gubun[3]) \n",
    "plt.plot(df3_jn['createdt'], df3_jn['localocccnt'] ,label=gubun[4]) \n",
    "plt.plot(df3_jb['createdt'], df3_jb['localocccnt'] ,label=gubun[5]) \n",
    "plt.plot(df3_cn['createdt'], df3_cn['localocccnt'] ,label=gubun[6]) \n",
    "plt.plot(df3_cb['createdt'], df3_cb['localocccnt'] ,label=gubun[7]) \n",
    "plt.plot(df3_kw['createdt'], df3_kw['localocccnt'] ,label=gubun[8]) \n",
    "plt.plot(df3_kk['createdt'], df3_kk['localocccnt'] ,label=gubun[9])\n",
    "plt.plot(df3_sj['createdt'], df3_sj['localocccnt'] ,label=gubun[10])\n",
    "plt.plot(df3_us['createdt'], df3_us['localocccnt'] ,label=gubun[11])\n",
    "plt.plot(df3_dj['createdt'], df3_dj['localocccnt'] ,label=gubun[12])\n",
    "plt.plot(df3_kj['createdt'], df3_kj['localocccnt'] ,label=gubun[13])\n",
    "plt.plot(df3_ic['createdt'], df3_ic['localocccnt'] ,label=gubun[14])\n",
    "plt.plot(df3_bs['createdt'], df3_bs['localocccnt'] ,label=gubun[15])\n",
    "plt.plot(df3_sl['createdt'], df3_sl['localocccnt'] ,label=gubun[16])\n",
    "\n",
    "\n",
    "plt.legend(bbox_to_anchor=(1.05, 1), loc='upper left', borderaxespad=0.)\n",
    "ax = plt.gca()\n",
    "xfmt = md.DateFormatter('%Y-%m-%d')\n",
    "ax.xaxis.set_major_formatter(xfmt)\n",
    "plt.xticks(rotation=25)\n",
    "ax.legend()\n",
    "plt.title('전국 시도 3월 해외유입 수')\n",
    "plt.show()\n"
   ]
  },
  {
   "cell_type": "code",
   "execution_count": 167,
   "metadata": {},
   "outputs": [
    {
     "data": {
      "image/png": "[encoded data removed]",
      "text/plain": [
       "<Figure size 720x576 with 1 Axes>"
      ]
     },
     "metadata": {
      "needs_background": "light"
     },
     "output_type": "display_data"
    }
   ],
   "source": [
    "gubun=['대구','제주', '경남', '경북', '전남', '전북', '충남', '충북', '강원', '경기', '세종',\n",
    "       '울산', '대전', '광주', '인천',  '부산', '서울']\n",
    "plt.figure(figsize=(10,8))\n",
    "plt.plot(df3_dg['createdt'], df3_dg['deathcnt'] ,label=gubun[0])\n",
    "plt.plot(df3_jj['createdt'], df3_jj['deathcnt'] ,label=gubun[1])\n",
    "plt.plot(df3_kn['createdt'], df3_kn['deathcnt'] ,label=gubun[2]) \n",
    "plt.plot(df3_kb['createdt'], df3_kb['deathcnt'] ,label=gubun[3]) \n",
    "plt.plot(df3_jn['createdt'], df3_jn['deathcnt'] ,label=gubun[4]) \n",
    "plt.plot(df3_jb['createdt'], df3_jb['deathcnt'] ,label=gubun[5]) \n",
    "plt.plot(df3_cn['createdt'], df3_cn['deathcnt'] ,label=gubun[6]) \n",
    "plt.plot(df3_cb['createdt'], df3_cb['deathcnt'] ,label=gubun[7]) \n",
    "plt.plot(df3_kw['createdt'], df3_kw['deathcnt'] ,label=gubun[8]) \n",
    "plt.plot(df3_kk['createdt'], df3_kk['deathcnt'] ,label=gubun[9])\n",
    "plt.plot(df3_sj['createdt'], df3_sj['deathcnt'] ,label=gubun[10])\n",
    "plt.plot(df3_us['createdt'], df3_us['deathcnt'] ,label=gubun[11])\n",
    "plt.plot(df3_dj['createdt'], df3_dj['deathcnt'] ,label=gubun[12])\n",
    "plt.plot(df3_kj['createdt'], df3_kj['deathcnt'] ,label=gubun[13])\n",
    "plt.plot(df3_ic['createdt'], df3_ic['deathcnt'] ,label=gubun[14])\n",
    "plt.plot(df3_bs['createdt'], df3_bs['deathcnt'] ,label=gubun[15])\n",
    "plt.plot(df3_sl['createdt'], df3_sl['deathcnt'] ,label=gubun[16])\n",
    "\n",
    "\n",
    "plt.legend(bbox_to_anchor=(1.05, 1), loc='upper left', borderaxespad=0.)\n",
    "ax = plt.gca()\n",
    "xfmt = md.DateFormatter('%Y-%m-%d')\n",
    "ax.xaxis.set_major_formatter(xfmt)\n",
    "plt.xticks(rotation=25)\n",
    "ax.legend()\n",
    "plt.title('전국 시도 3월 사망자 수')\n",
    "plt.show()\n"
   ]
  },
  {
   "cell_type": "code",
   "execution_count": 117,
   "metadata": {},
   "outputs": [
    {
     "data": {
      "image/png": "[encoded data removed]",
      "text/plain": [
       "<Figure size 720x576 with 1 Axes>"
      ]
     },
     "metadata": {
      "needs_background": "light"
     },
     "output_type": "display_data"
    }
   ],
   "source": [
    "plt.figure(figsize=(10,8))\n",
    "plt.plot(df_total['createdt'], df_total['deathcnt'])\n",
    "\n",
    "ax = plt.gca()\n",
    "xfmt = md.DateFormatter('%Y-%m-%d')\n",
    "ax.xaxis.set_major_formatter(xfmt)\n",
    "plt.xticks(rotation=25)\n",
    "plt.title('전체기간 전국 시도 사망자 수')\n",
    "plt.show()\n"
   ]
  },
  {
   "cell_type": "code",
   "execution_count": null,
   "metadata": {},
   "outputs": [],
   "source": []
  },
  {
   "cell_type": "markdown",
   "metadata": {},
   "source": [
    "cut datetime 함수 만들기 (달별로 cut)\n",
    "전국 시도별 그래프 만들어주는 함수 만들기\n",
    "\n",
    "CREATE_DT 등록일시분초 DEATH_CNT 사망자 수 GUBUN 시도명(한글) GUBUN_CN 시도명(중국어) GUBUN_EN 시도명(영어) INC_DEC 전일대비 증감 수 ISOL_CLEAR_CNT 격리 해제 수 QUR_RATE 10만명당 발생률 STD_DAY 기준일시 UPDATE_DT 수정일시분초 DEF_CNT 확진자 수\n",
    "ISOL_ING_CNT 격리중 환자수 OVER_FLOW_CNT 해외유입 수 LOCAL_OCC_CNT 지역발생 수   \n",
    "\n",
    "2020년 3월~4월 10일 해외유입 수 확인불가\n",
    "월별로 datetime 자르면서 그래프를 만들고, 자동으로 데이터 전처리 -> concat?\n",
    "문제 -> "
   ]
  }
 ],
 "metadata": {
  "kernelspec": {
   "display_name": "Python 3",
   "language": "python",
   "name": "python3"
  },
  "language_info": {
   "codemirror_mode": {
    "name": "ipython",
    "version": 3
   },
   "file_extension": ".py",
   "mimetype": "text/x-python",
   "name": "python",
   "nbconvert_exporter": "python",
   "pygments_lexer": "ipython3",
   "version": "3.7.9"
  }
 },
 "nbformat": 4,
 "nbformat_minor": 4
}
