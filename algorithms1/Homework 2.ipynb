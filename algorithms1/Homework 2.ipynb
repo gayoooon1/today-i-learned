{
 "cells": [
  {
   "cell_type": "markdown",
   "metadata": {},
   "source": [
    "# Homework 2"
   ]
  },
  {
   "cell_type": "markdown",
   "metadata": {},
   "source": [
    "#### 20173821 Ka Yoon Kim"
   ]
  },
  {
   "cell_type": "markdown",
   "metadata": {},
   "source": [
    "## 1. Suppose we implement Quicksort that ChoosePivot always selects the first element of array. "
   ]
  },
  {
   "cell_type": "markdown",
   "metadata": {},
   "source": [
    "### 1. What is the running time of this algorithm on an input array that is already sorted?"
   ]
  },
  {
   "cell_type": "code",
   "execution_count": null,
   "metadata": {},
   "outputs": [],
   "source": [
    "def Partition (A,l,r):\n",
    "    p=A[l]\n",
    "    i=l+1\n",
    "    for j in range(l+1,r+1):\n",
    "        if A[j] < p:\n",
    "            A[j],A[i] = A[i],A[j]\n",
    "            i+=1\n",
    "    A[l],A[i] = A[i],A[l]   "
   ]
  },
  {
   "cell_type": "markdown",
   "metadata": {},
   "source": [
    "When the input array is already completely sorted, the $O(n^2)$ running time occurs.Suppose that there is an array called A, sorted with length n. As ChoosePivot always select the first element of array, the smallest number will be the pivot.\n",
    "The A[l] will be located in the pivot and A[r] is the last.\n",
    "Compare with the pivot to l+1 from r. It takes n-1 times.\n",
    "But all data is greater than the pivot because it is the smallest.\n",
    "Pivot remains at its place.\n",
    "Also, the situation like above occurs again and again. This process is progressed by the number of data in the arrangement (n times) and each time, you compare it to n-1 times.\n",
    "So in the worst case, it's $O(n^2)$."
   ]
  },
  {
   "cell_type": "markdown",
   "metadata": {},
   "source": [
    "### 2. What if we select last element?"
   ]
  },
  {
   "cell_type": "markdown",
   "metadata": {},
   "source": [
    "I think it is the same. It is the worst case same as above. The reason why is that partitioning routine produces one subproblem with n-1 elements and one with 0 elements. According to the textbook, if unbalanced partitioning arises in each recursive call, the partitioning costs $O(n)$ time. The recursive call on an array of size 0 just returns, $T(0) = O(1)$, and the recurrence for the running time is $T(n) = T(n - 1) + T(0) + O(n) = T(n - 1) + O(n)$. If we sum the costs incurred at each level of the recursion, we get $O(n^2)$.\n"
   ]
  },
  {
   "cell_type": "markdown",
   "metadata": {},
   "source": [
    "## 2. Suppose we run Quicksort on some input, and, magically, every recursive call chooses the median element of its subarray as its pivot. What's the running time in this case?"
   ]
  },
  {
   "cell_type": "markdown",
   "metadata": {},
   "source": [
    "The running time is $O(nlog{n})$ because it is the most even possible split. Partition produces two subproblems, each of size no more than $\\frac{n}{2}$, since one is of size $\\frac{n}{2}$ and one of size $\\frac{n}{2}-1$. The recurrence for the running time is them $T(n) = 2T(\\frac{n}{2}) + O(n)$ (ignore 1). By case of the master theorem, this recurrence has the solution $T(n) = O(nlogn)$."
   ]
  },
  {
   "cell_type": "markdown",
   "metadata": {},
   "source": [
    "## 3. Show $T(n) = T(\\frac{n}{3}) + T(\\frac{2n}{3}) + n = O(N\\log{N})$"
   ]
  },
  {
   "cell_type": "markdown",
   "metadata": {},
   "source": [
    "![KakaoTalk_20210407_230338718.jpg](./KakaoTalk_20210407_230338718.jpg)"
   ]
  },
  {
   "cell_type": "markdown",
   "metadata": {},
   "source": [
    "## 4. Implement Three-way-Quicksort (3 way partitioning)"
   ]
  },
  {
   "cell_type": "markdown",
   "metadata": {},
   "source": [
    "To handle equal elements, replace the 2-way 'partition' function with Dijkstra's 3 way partitioning such that all elements equal to pivot goes to their 'rightful position'. Left of all elements equal to pivot are less than pivot. Right of all elements equal to pivot are greater than pivot.   \n",
    "### Implement\n",
    "Three-way-QuickSort(array A, length n)\n",
    "1. if n==1, return;\n",
    "2. p=ChoosePivot(A,n);\n",
    "3. 3 way partition A around p\n",
    "4. Recursively sort 1st part of the array.\n",
    "5. Recursively sort 3rd part of the array."
   ]
  },
  {
   "cell_type": "code",
   "execution_count": 8,
   "metadata": {},
   "outputs": [],
   "source": [
    "import numpy as np"
   ]
  },
  {
   "cell_type": "code",
   "execution_count": 5,
   "metadata": {},
   "outputs": [],
   "source": [
    "def ThreeWayPartition (A,pivot):\n",
    "    i = 0\n",
    "    j = 0\n",
    "    k = len(A)-1\n",
    "    \n",
    "    while j<=k:\n",
    "        # if the element is larger or smaller than pivot, swap\n",
    "        if A[j] < pivot:\n",
    "            A[i],A[j] = A[j],A[i]\n",
    "            i +=1\n",
    "            j +=1\n",
    "        elif A[j] > pivot:\n",
    "            A[j],A[k] = A[k],A[j]\n",
    "            k-=1\n",
    "        # if is same as pivot, leave it\n",
    "        else: j+=1 "
   ]
  },
  {
   "cell_type": "code",
   "execution_count": null,
   "metadata": {},
   "outputs": [],
   "source": [
    "def ChoosePivot(A):\n",
    "    return int(np.median(A))"
   ]
  },
  {
   "cell_type": "code",
   "execution_count": 6,
   "metadata": {},
   "outputs": [],
   "source": [
    "def QuickSort(A, n):\n",
    "    if n==1: return\n",
    "    p = ChoosePivot(A)\n",
    "    ThreeWayPartition(A,p)"
   ]
  }
 ],
 "metadata": {
  "kernelspec": {
   "display_name": "Python 3",
   "language": "python",
   "name": "python3"
  },
  "language_info": {
   "codemirror_mode": {
    "name": "ipython",
    "version": 3
   },
   "file_extension": ".py",
   "mimetype": "text/x-python",
   "name": "python",
   "nbconvert_exporter": "python",
   "pygments_lexer": "ipython3",
   "version": "3.8.5"
  }
 },
 "nbformat": 4,
 "nbformat_minor": 4
}
