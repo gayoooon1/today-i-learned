{
 "cells": [
  {
   "cell_type": "markdown",
   "metadata": {},
   "source": [
    "# Homework 3   \n",
    "### 20173821 Ka Yoon Kim"
   ]
  },
  {
   "cell_type": "markdown",
   "metadata": {},
   "source": [
    "                                                   10 \n",
    "\n",
    "                                               /         \\ \n",
    "\n",
    "                                            4             9\n",
    "\n",
    "                                         /     \\        /     \\ \n",
    "\n",
    "                                        3       1       2      7 \n",
    "\n",
    "                                      /   \\\n",
    "\n",
    "                                     5     6\n",
    "\n"
   ]
  },
  {
   "cell_type": "code",
   "execution_count": 3,
   "metadata": {},
   "outputs": [],
   "source": [
    "graph = {10:[4,9],\n",
    "        4:[3,1],\n",
    "        9:[2,7],\n",
    "        3:[5,6],\n",
    "        1:None,\n",
    "        2:None,\n",
    "        5:None,\n",
    "        6:None,\n",
    "        7:None}"
   ]
  },
  {
   "cell_type": "code",
   "execution_count": 4,
   "metadata": {},
   "outputs": [],
   "source": [
    "root = 10"
   ]
  },
  {
   "cell_type": "markdown",
   "metadata": {},
   "source": [
    "## 1. Construct your tree using your own programming language and perform BFS from root "
   ]
  },
  {
   "cell_type": "code",
   "execution_count": 5,
   "metadata": {},
   "outputs": [],
   "source": [
    "from collections import deque\n",
    "\n",
    "def BFS(graph,root):\n",
    "    visited = []\n",
    "    queue = deque([root])\n",
    "    \n",
    "    while queue:\n",
    "        n = queue.popleft()\n",
    "        visited.append(n)\n",
    "        if graph[n] == None: continue\n",
    "        else:\n",
    "            for i in range(len(graph[n])):\n",
    "                queue.append(graph[n][i])\n",
    "    return visited        "
   ]
  },
  {
   "cell_type": "markdown",
   "metadata": {},
   "source": [
    "![image](algorithms-lec11-graphs-16.jpg)"
   ]
  },
  {
   "cell_type": "code",
   "execution_count": 6,
   "metadata": {},
   "outputs": [
    {
     "name": "stdout",
     "output_type": "stream",
     "text": [
      "[10, 4, 9, 3, 1, 2, 7, 5, 6]\n"
     ]
    }
   ],
   "source": [
    "print(BFS(graph,root))"
   ]
  },
  {
   "cell_type": "markdown",
   "metadata": {},
   "source": [
    "## 2. Construct your tree using your own programming language and perform DFS from root "
   ]
  },
  {
   "cell_type": "code",
   "execution_count": 7,
   "metadata": {},
   "outputs": [],
   "source": [
    "def DFS(graph, root):\n",
    "    visited = []\n",
    "    stack = [root]\n",
    "    while stack:\n",
    "        n=stack.pop()\n",
    "        visited.append(n)\n",
    "        if graph[n] == None: continue\n",
    "        else:\n",
    "            for i in range(len(graph[n])):\n",
    "                stack.append(graph[n][i])\n",
    "    return visited   "
   ]
  },
  {
   "cell_type": "markdown",
   "metadata": {},
   "source": [
    "![image](algorithms-lec11-graphs-17.jpg)"
   ]
  },
  {
   "cell_type": "markdown",
   "metadata": {},
   "source": [
    "If the order starts in right side, the result could be as follows."
   ]
  },
  {
   "cell_type": "code",
   "execution_count": 8,
   "metadata": {},
   "outputs": [
    {
     "data": {
      "text/plain": [
       "[10, 9, 7, 2, 4, 1, 3, 6, 5]"
      ]
     },
     "execution_count": 8,
     "metadata": {},
     "output_type": "execute_result"
    }
   ],
   "source": [
    "DFS(graph,root)"
   ]
  },
  {
   "cell_type": "markdown",
   "metadata": {},
   "source": [
    "## 3. Explain how you would do BFS and DFS on general graph   \n",
    " - explain how you would read the input and how you keep the data \n",
    "\n",
    " - explain how you are going to implement BFS, DFS , and how it is different from (1, 2)"
   ]
  },
  {
   "cell_type": "markdown",
   "metadata": {},
   "source": [
    "I would like to read the input graph and transform into adjacency list that is composed of list of vertices.\n",
    "\n",
    "On the previous BFS and DFS that which input was the tree, I simply implemented the tree using dictionary, shape of {node(parent):[child]}. On the other hand, for the general graph as an input, I will use the dictionary to transform and keep the data as I did before, but in the shape of {node A :[a node which node A is heading(edge)]}. If I know the input graph, I will directly add the nodes and edges by myself. If I don't and input graphs are random, I would like to make a class named 'Graph' which is dictionary of list(using defaultdict(list) from collections library) and append the nodes and edges. With transformed input data, I will put these as a input on BFS and DFS.   \n",
    "\n",
    "For implementing BFS, I will use the data structure called queue because it is FIFO and fits on BFS. While queue is empty, every node in graph will be enqueued and marked as visited. While dequeue the node, enqueue the adjacent nodes and mark as visited. On the other hand, for implementing DFS, the stack is needed as a data structure because it is LIFO and fits on DFS. While stack is being empty, every node in graph will be pushed and marked as visited. While it pops, push the adjacent nodes and mark as visited. These implementation has a difference from (1,2) which is the time complexity. Previous tree BFS and DFS only needed O(Node) because they visit every node exactly once. However, BFS and DFS on general graph takes O(Vertices + Edges) of time complexity."
   ]
  }
 ],
 "metadata": {
  "kernelspec": {
   "display_name": "Python 3",
   "language": "python",
   "name": "python3"
  },
  "language_info": {
   "codemirror_mode": {
    "name": "ipython",
    "version": 3
   },
   "file_extension": ".py",
   "mimetype": "text/x-python",
   "name": "python",
   "nbconvert_exporter": "python",
   "pygments_lexer": "ipython3",
   "version": "3.7.9"
  }
 },
 "nbformat": 4,
 "nbformat_minor": 4
}
