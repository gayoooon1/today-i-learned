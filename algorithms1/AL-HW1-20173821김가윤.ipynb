{
 "cells": [
  {
   "cell_type": "markdown",
   "metadata": {},
   "source": [
    "# Homework1"
   ]
  },
  {
   "cell_type": "markdown",
   "metadata": {},
   "source": [
    "#### 20173821 김가윤"
   ]
  },
  {
   "cell_type": "markdown",
   "metadata": {},
   "source": [
    "## Show how many array access are in mergesort- merge (pt 10)  "
   ]
  },
  {
   "cell_type": "code",
   "execution_count": 2,
   "metadata": {},
   "outputs": [],
   "source": [
    "def merge(array, l, m, r):\n",
    "    lnum = m - l + 1\n",
    "    rnum = r - m\n",
    "    arrayL = [0] * lnum # m-l+1\n",
    "    arrayR = [0] * rnum # r-m\n",
    "        \n",
    "    for i in range(0, lnum): # Read 1, Write 1 time\n",
    "        arrayL[i] = array[l + i]\n",
    "    for j in range(0, rnum):\n",
    "        arrayR[j] = array[m + j + 1]\n",
    "        \n",
    "    i, j, k = 0, 0, l\n",
    "    while i < lnum and j < rnum:\n",
    "        if arrayL[i] > arrayR[j]: # Read 2 times\n",
    "            array[k] = arrayR[j] # Read 1, Write 1 time\n",
    "            j += 1\n",
    "        else:\n",
    "            array[k] = arrayL[i]\n",
    "            i += 1\n",
    "        k += 1\n",
    "        \n",
    "    while i < lnum: # right empty\n",
    "        array[k] = arrayL[i]\n",
    "        i += 1\n",
    "        k += 1\n",
    "\n",
    "    while j < rnum: #left empty\n",
    "        array[k] = arrayR[j]\n",
    "        j += 1\n",
    "        k += 1"
   ]
  },
  {
   "cell_type": "markdown",
   "metadata": {},
   "source": [
    "According to the merge sort analysis, the proposition is that merge sort uses at most $6NlogN$ array accesses to sort any array of size N. The reason why is that array accesses are required to read 4 times and write 2 times. Based on the merge function above, the details are as it follows. To copy every array elements in auxilary space, array need to read and write during the for loop (Read 1 time, Write 1 time). After that, to merge each sub array, elements in the each left and right array compared. In this process, arrays need to be read (Read 2 times). If each arrays meet the condition, access is required to read each left or right array and write the value to the array in the input. (Read 1 time, Write 1 time) Each level needs 6N times of accesses and the total height of divided array is $logN$. In conclusion, total array accesses would be $6N*logN$."
   ]
  },
  {
   "cell_type": "markdown",
   "metadata": {},
   "source": [
    "## Write your own merge sort algorithm in bottom-up approach, and  describe in detail of yours (pt 30)"
   ]
  },
  {
   "cell_type": "code",
   "execution_count": 15,
   "metadata": {},
   "outputs": [
    {
     "name": "stdout",
     "output_type": "stream",
     "text": [
      "0 0 1\n",
      "2 2 3\n",
      "4 4 5\n",
      "6 6 7\n",
      "8 8 9\n",
      "10 10 11\n",
      "12 12 13\n",
      "14 14 15\n",
      "0 1 3\n",
      "4 5 7\n",
      "8 9 11\n",
      "12 13 15\n",
      "0 3 7\n",
      "8 11 15\n",
      "0 7 15\n",
      "[-22, -1, 1, 1, 2, 2, 3, 4, 5, 6, 7, 7, 8, 9, 10, 111]\n"
     ]
    }
   ],
   "source": [
    "def merge_sort(array):\n",
    "\n",
    "    length = 1 # the length of list to compare for the entire array : it goes like 1,2,4...\n",
    "\n",
    "    while length < len(array) - 1: \n",
    "        left = 0\n",
    "        while left < len(array) - length: \n",
    "                \n",
    "            mid = left + length - 1\n",
    "            right = min(2 * length + left - 1, len(a) - 1) \n",
    "            \n",
    "            print(left, mid, right)\n",
    "            merge(a, left, mid, right) # merge for each sub array\n",
    "            left = left + length * 2 # have to move by mutiple of length (2,4,8...)\n",
    "                \n",
    "        length = 2 * length # increase sub array size by 2^n\n",
    "\n",
    "\n",
    "a = [4,5,9,7,1,2,2,6,10,3,7,1,8,111,-1,-22]\n",
    "#a=['E','A','S','Y','Q','U','E','S',\"T\",'I','O','N']\n",
    "merge_sort(a)\n",
    "print(a)"
   ]
  },
  {
   "attachments": {},
   "cell_type": "markdown",
   "metadata": {},
   "source": [
    "Merge sort by bottom-up starts with list as length one and sort. Then it merges passed the entire array once merging sorted lists of one item each into sorted lists of two items each. Then it goes through the entire array merging sorted list of size two into lists of size four. It merges lists that are twice as large as they were for the previous pass until it meets the length of input array. 1개 요소를 정렬한 뒤 2개로 묶기, 2개의 요소들을 정렬하고 4개로 묶기...이를 2의 제곱으로 묶어서 전체 배열 길이까지 시행하는 것이다.   \n",
    "\n",
    "Merge sort by bottom-up implements as follows:      \n",
    "When the length of input array is power of 2 the implement is same as mentioned above.   \n",
    "When the length of input array is odd:   \n",
    "        1. Compare two items each (list of one)   \n",
    "        2. Last item has nothing to merge => keep as length one list   \n",
    "        3. Last still remains   \n",
    "        4. After the numbers merging lists, even number list and remain finally merged. (ex. num = 13, 8 + (4 + 1))   "
   ]
  },
  {
   "cell_type": "markdown",
   "metadata": {},
   "source": [
    "### References\n",
    "https://www.youtube.com/watch?v=k3oezbZgfDs   \n",
    "https://algs4.cs.princeton.edu/22mergesort/  \n",
    "http://www.mathcs.emory.edu/~cheung/Courses/171/Syllabus/7-Sort/merge-sort5.html"
   ]
  }
 ],
 "metadata": {
  "kernelspec": {
   "display_name": "Python 3",
   "language": "python",
   "name": "python3"
  },
  "language_info": {
   "codemirror_mode": {
    "name": "ipython",
    "version": 3
   },
   "file_extension": ".py",
   "mimetype": "text/x-python",
   "name": "python",
   "nbconvert_exporter": "python",
   "pygments_lexer": "ipython3",
   "version": "3.8.5"
  }
 },
 "nbformat": 4,
 "nbformat_minor": 4
}
