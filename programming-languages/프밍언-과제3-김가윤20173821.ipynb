{
 "cells": [
  {
   "cell_type": "markdown",
   "metadata": {},
   "source": [
    "## Programming Assignment 3: A Saucerful of Functions"
   ]
  },
  {
   "cell_type": "markdown",
   "metadata": {},
   "source": [
    "Code the following functions in functional style. You may use any language you like, but you might have to choose one which supports data structures given in the problem set (e.g. lists). Use higher-order functions such as map, filter, and fold(reduce, foldr, foldl) whenever possible. **You may also define auxiliary functions to solve the given problems.**\n",
    "\n",
    "**(Each problem can be solved with only 1-expression using fold and lambdas.)**\n",
    "\n",
    "The examples are given following the Scheme syntax for convenience’s sake.\n",
    "\n",
    "1. (count x l) counts the number of occurrences of x at the top level of l, and (countall x l) counts the number of occurrences throughout  l.    \n",
    "\n",
    "       (count ‘a ‘(1 b a (c a)))  --> 1\n",
    "\n",
    "       (countall ‘a ‘(1 b a (c a)))  -->  2\n",
    "  \n",
    "  \n",
    "2. (reverse l) returns a list containing the elements of l in reverse order. You will probably want to use the append function.    \n",
    "\n",
    "       (reverse ‘(a b (c d) e))  -->  (e (c d) b a)\n",
    "\n",
    "       (twist l) reverses the top level of l and recursively twist all the items in l.\n",
    "\n",
    "       (twist ‘(a b (c d) e))  -->  (e (d c) b a)\n",
    "  \n",
    "  \n",
    "3. (insertion-sort l) returns a sorted list of l using the Insertion Sort algorithm.   \n",
    "\n",
    "       (insertion-sort ‘(4 3 2 6 8 5))  -->  (2 3 4 5 6 8)\n",
    "  \n",
    "  \n",
    "4. BONUS PROBLEM\n",
    " \n",
    "       - (permutations l) returns a list containing all the permutations of l.\n",
    "\n",
    "       (permutations ‘(a b c))  -->  ((a b c) (a c b) (b a c) (b c a) (c a b) (c b a))\n",
    "\n",
    "       - (powerset l) returns a list containing all the subsets of l which contains distinct elements.\n",
    "\n",
    "          Order of elements are not important because l is regarded as a set.\n",
    "\n",
    "       (powerset ‘(a b c))  -->  (() (a) (b) (c) (a b) (a c) (b c) (a b c))"
   ]
  },
  {
   "cell_type": "markdown",
   "metadata": {},
   "source": [
    "### 1. (count x l) counts the number of occurrences of x at the top level of l, and (countall x l) counts the number of occurrences throughout l"
   ]
  },
  {
   "cell_type": "code",
   "execution_count": 155,
   "metadata": {},
   "outputs": [],
   "source": [
    "listOfElems=['1', 'b', 'a', ['c', 'a']]"
   ]
  },
  {
   "cell_type": "code",
   "execution_count": 164,
   "metadata": {},
   "outputs": [
    {
     "data": {
      "text/plain": [
       "1"
      ]
     },
     "execution_count": 164,
     "metadata": {},
     "output_type": "execute_result"
    }
   ],
   "source": [
    "count = sum(list(map(lambda x:1, list(filter(lambda x: x == 'a', listOfElems)))))\n",
    "count"
   ]
  },
  {
   "cell_type": "code",
   "execution_count": 165,
   "metadata": {},
   "outputs": [
    {
     "data": {
      "text/plain": [
       "2"
      ]
     },
     "execution_count": 165,
     "metadata": {},
     "output_type": "execute_result"
    }
   ],
   "source": [
    "countall = sum(list(map(lambda x:1, list(filter(lambda x: x == 'a', [y for x in listOfElems for y in x])))))\n",
    "countall"
   ]
  },
  {
   "cell_type": "markdown",
   "metadata": {},
   "source": [
    "### 2. (reverse l) returns a list containing the elements of l in reverse order. You will probably want to use the append function."
   ]
  },
  {
   "cell_type": "code",
   "execution_count": 121,
   "metadata": {},
   "outputs": [],
   "source": [
    "from functools import reduce"
   ]
  },
  {
   "cell_type": "code",
   "execution_count": 195,
   "metadata": {},
   "outputs": [],
   "source": [
    "listOfElems=['a', 'b', ['c', 'd'], 'e']"
   ]
  },
  {
   "cell_type": "code",
   "execution_count": 197,
   "metadata": {},
   "outputs": [],
   "source": [
    "def append(x,y): return y+x"
   ]
  },
  {
   "cell_type": "code",
   "execution_count": 200,
   "metadata": {},
   "outputs": [
    {
     "data": {
      "text/plain": [
       "['e', ['c', 'd'], 'b', 'a']"
      ]
     },
     "execution_count": 200,
     "metadata": {},
     "output_type": "execute_result"
    }
   ],
   "source": [
    "reverse = reduce(append,list(map(lambda x:[x], listOfElems)))\n",
    "reverse"
   ]
  },
  {
   "cell_type": "code",
   "execution_count": 126,
   "metadata": {},
   "outputs": [
    {
     "data": {
      "text/plain": [
       "['e', 'd', 'c', 'b', 'a']"
      ]
     },
     "execution_count": 126,
     "metadata": {},
     "output_type": "execute_result"
    }
   ],
   "source": [
    "twist = reduce(append,list(map(lambda x:[x], list(y for x in listOfElems for y in x))))\n",
    "twist"
   ]
  },
  {
   "cell_type": "markdown",
   "metadata": {},
   "source": [
    "### 3. (insertion-sort l) returns a sorted list of l using the Insertion Sort algorithm."
   ]
  },
  {
   "cell_type": "code",
   "execution_count": 261,
   "metadata": {},
   "outputs": [],
   "source": [
    "listOfElems=[4, 3, 2, 6, 8, 5]"
   ]
  },
  {
   "cell_type": "code",
   "execution_count": 262,
   "metadata": {},
   "outputs": [
    {
     "data": {
      "text/plain": [
       "[2, 3, 4, 5, 6, 8]"
      ]
     },
     "execution_count": 262,
     "metadata": {},
     "output_type": "execute_result"
    }
   ],
   "source": [
    "insertion_sort = reduce(lambda x, y : [a for a in x if a <= y] + [y] + [a for a in x if a > y],listOfElems,[])\n",
    "insertion_sort"
   ]
  },
  {
   "cell_type": "markdown",
   "metadata": {},
   "source": [
    "### 4. BONUS PROBLEM"
   ]
  },
  {
   "cell_type": "code",
   "execution_count": 267,
   "metadata": {},
   "outputs": [],
   "source": [
    "listOfElems= ['a','b','c']"
   ]
  },
  {
   "cell_type": "code",
   "execution_count": 268,
   "metadata": {},
   "outputs": [],
   "source": [
    "def append(x,y): return [x]+y"
   ]
  },
  {
   "cell_type": "code",
   "execution_count": 269,
   "metadata": {},
   "outputs": [],
   "source": [
    "permutation =lambda x:x and [append(a,b) for a in x for b in permutation(list(filter(lambda x:x !=a,[c for c in x])))] or [[]]"
   ]
  },
  {
   "cell_type": "code",
   "execution_count": 270,
   "metadata": {},
   "outputs": [
    {
     "data": {
      "text/plain": [
       "[['a', 'b', 'c'],\n",
       " ['a', 'c', 'b'],\n",
       " ['b', 'a', 'c'],\n",
       " ['b', 'c', 'a'],\n",
       " ['c', 'a', 'b'],\n",
       " ['c', 'b', 'a']]"
      ]
     },
     "execution_count": 270,
     "metadata": {},
     "output_type": "execute_result"
    }
   ],
   "source": [
    "permutation(listOfElems)"
   ]
  },
  {
   "cell_type": "code",
   "execution_count": 271,
   "metadata": {},
   "outputs": [],
   "source": [
    "powerset = reduce(lambda wholeset, x: wholeset + [pofx + x for pofx in wholeset],map(permutation, listOfElems), [[]])"
   ]
  },
  {
   "cell_type": "code",
   "execution_count": 272,
   "metadata": {},
   "outputs": [
    {
     "data": {
      "text/plain": [
       "[[],\n",
       " [['a']],\n",
       " [['b']],\n",
       " [['a'], ['b']],\n",
       " [['c']],\n",
       " [['a'], ['c']],\n",
       " [['b'], ['c']],\n",
       " [['a'], ['b'], ['c']]]"
      ]
     },
     "execution_count": 272,
     "metadata": {},
     "output_type": "execute_result"
    }
   ],
   "source": [
    "powerset"
   ]
  }
 ],
 "metadata": {
  "kernelspec": {
   "display_name": "Python 3",
   "language": "python",
   "name": "python3"
  },
  "language_info": {
   "codemirror_mode": {
    "name": "ipython",
    "version": 3
   },
   "file_extension": ".py",
   "mimetype": "text/x-python",
   "name": "python",
   "nbconvert_exporter": "python",
   "pygments_lexer": "ipython3",
   "version": "3.7.9"
  }
 },
 "nbformat": 4,
 "nbformat_minor": 4
}
