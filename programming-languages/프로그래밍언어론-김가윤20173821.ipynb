{
 "cells": [
  {
   "cell_type": "markdown",
   "metadata": {},
   "source": [
    "## Simulation of iterator generator using ordinary control structures only\n",
    "\n",
    "* Python iterator 생성자를 사용한 sort(quicksort)와  flatten 예제 각각에 대하여 다음 조건을 만족하는 프로그램을 임의의 언어로 작성하시오.\n",
    "\n",
    "Python의 iterator 생성자와 유사하거나 동일한 기능(예를 들어 “yield”)를 사용하면 안됩니다. 그 대신 if, while 등과 같은 보편적인 제어구조와 프로시저(함수, 메서드 호출)만 사용해야 합니다.\n",
    "주어진 문제에 어떻게 적용할 수 있는지 설명할 수만 있다면 인터넷에서 다른 사람들의 해결책을 찾아 활용해도 됩니다. 참조/인용/복사하여 사용한 코드에 대한 완전한 설명을 추가하기 바랍니다.\n",
    "이 과제의 목적은 iterator와 같은 제어 추상화가 일반적으로 왜 유용하며, 어떤 경우에는 특히 필수적인지 예시하기 위한 것입니다."
   ]
  },
  {
   "cell_type": "markdown",
   "metadata": {},
   "source": [
    "### 20173821 김가윤\n",
    "\n",
    "## 1. Sort(QuickSort)"
   ]
  },
  {
   "cell_type": "code",
   "execution_count": 43,
   "metadata": {},
   "outputs": [
    {
     "name": "stdout",
     "output_type": "stream",
     "text": [
      "[-100, -5, -4, 0, 1, 2, 2, 3, 5, 6, 7, 8, 9, 99, 100, 100, 100, 100, 100, 100]\n"
     ]
    }
   ],
   "source": [
    "class Node(object):\n",
    "\n",
    "    def __init__(self, data):\n",
    "        self.data = data\n",
    "        self.next=None\n",
    "\n",
    "class Linkedlist(object):\n",
    "\n",
    "    def __init__(self):\n",
    "        self.head = None\n",
    "        self.tail = None\n",
    "        self.length = 0\n",
    "\n",
    "    def push_back(self, data):\n",
    "        self.length += 1\n",
    "        new = Node(data)\n",
    "        if(self.tail is None):\n",
    "            self.head = self.tail = new\n",
    "        else:\n",
    "            self.tail.next = new\n",
    "            self.tail = new\n",
    "\n",
    "    def pop_front(self):\n",
    "        if(self.head is None):\n",
    "            return self.head\n",
    "        self.length -= 1\n",
    "        data = self.head.data\n",
    "        self.head = self.head.next\n",
    "        return data\n",
    "\n",
    "    def show(self, head, tail):\n",
    "        arr = []\n",
    "        if(head is None):\n",
    "            print(arr)\n",
    "            return\n",
    "        while(True):\n",
    "            if(head.data is not None):\n",
    "                arr.append(head.data)\n",
    "            if(head is tail):\n",
    "                break\n",
    "            head = head.next\n",
    "        print(arr)\n",
    "\n",
    "    def quicksort(self,head,tail):\n",
    "        if(head is tail):               # if single node return\n",
    "            return head,tail\n",
    "                                        # using 3 dummy nodes for 3 lists\n",
    "        hlt = Node(None)                # head, tail < pivot list\n",
    "        tlt = hlt\n",
    "        heq = Node(None)                # head, tail = pivot list\n",
    "        teq = heq\n",
    "        hgt = Node(None)                # head, tail > pivot list\n",
    "        tgt = hgt\n",
    "        pivot = head\n",
    "        curr  = head\n",
    "        end   = tail.next\n",
    "        while(curr is not end):\n",
    "            if(curr.data < pivot.data):\n",
    "                tlt.next = curr\n",
    "                tlt = curr\n",
    "            elif(curr.data == pivot.data):\n",
    "                teq.next = curr\n",
    "                teq = curr\n",
    "            else:\n",
    "                tgt.next = curr\n",
    "                tgt = curr\n",
    "            curr = curr.next\n",
    "        heq = heq.next                  # at least 1 node (should release node)\n",
    "        if(hlt is tlt):                 # if none < pivot\n",
    "            hlt = heq                   #  (should release dummy node)\n",
    "            tlt = heq\n",
    "        else:                           # else recurse on list < pivot\n",
    "            hlt = hlt.next              #  (should release dummy node)\n",
    "            hlt,tlt = self.quicksort(hlt,tlt)\n",
    "            tlt.next = heq\n",
    "        if(hgt is tgt):                 # if none > pivot\n",
    "            hgt = teq                   #  (should release dummy node)\n",
    "            tgt = teq\n",
    "        else:                           # else recurse on list > pivot\n",
    "            hgt = hgt.next              #  (should release dummy node)\n",
    "            hgt,tgt = self.quicksort(hgt,tgt)\n",
    "            teq.next = hgt\n",
    "        return(hlt,tgt)\n",
    "\n",
    "    def sort(self):\n",
    "        if (self.head == None):         # if empty list return\n",
    "            return\n",
    "        self.head,self.tail = self.quicksort(self.head,self.tail)\n",
    "        self.tail.next = None\n",
    "        return\n",
    "\n",
    "lists=Linkedlist()\n",
    "data = [3,1,-5,7,-4,2,6,200,9,8,5,0,-100,2,300,99]+[100]*10000\n",
    "n=0\n",
    "while n != len(data):\n",
    "    lists.push_back(data[n])\n",
    "    n+=1\n",
    "lists.sort()\n",
    "\n",
    "arr = []\n",
    "\n",
    "while(True):\n",
    "    real_data = lists.pop_front()\n",
    "    arr.append(real_data)\n",
    "    if(len(arr) ==20):\n",
    "        break\n",
    "\n",
    "print(arr) # 20 results\n",
    "\n",
    "#while(True):\n",
    "    #data = lists.pop_front()\n",
    "    #if(data is None):\n",
    "        #break\n",
    "    #arr.append(data)\n",
    "#print(arr)"
   ]
  },
  {
   "cell_type": "markdown",
   "metadata": {},
   "source": [
    "저는 iterator 기능을 구현하기 위해서 자료구조면에서 접근이 필요하다고 생각했습니다. yield는 함수에서 return과 달리 다음에 오는 값을 저장하는 기능을 가지고 있습니다. 따라서 이 기능을 그대로 적용하기 위해서는 각 데이터가 서로의 next 내용을 알아야 한다고 생각하여 node로 linked list를 만들어서 정렬을 구현하는 방법을 찾았습니다. 수업 내용의 예제를 참고하여 보면, 20까지의 결과를 출력할 수 있고, 전체의 결과도 출력할 수 있습니다."
   ]
  },
  {
   "cell_type": "markdown",
   "metadata": {},
   "source": [
    "## 2. Flatten"
   ]
  },
  {
   "cell_type": "code",
   "execution_count": 50,
   "metadata": {},
   "outputs": [],
   "source": [
    "import re\n",
    "\n",
    "def flatten_re(TheList):\n",
    "    a = str(TheList)\n",
    "    b,crap = re.subn(r'[\\[,\\]]', ' ', a)\n",
    "    c = b.split()\n",
    "    d = []\n",
    "    n = 0\n",
    "    while n != len(c):\n",
    "        d.append(int(c[n]))\n",
    "        n+=1\n",
    "    return(d)"
   ]
  },
  {
   "cell_type": "code",
   "execution_count": 51,
   "metadata": {},
   "outputs": [
    {
     "data": {
      "text/plain": [
       "[1, 2, 5, 4, 3]"
      ]
     },
     "execution_count": 51,
     "metadata": {},
     "output_type": "execute_result"
    }
   ],
   "source": [
    "flatten_re([1,2,[[[[5]]]],4,[3]])"
   ]
  },
  {
   "cell_type": "code",
   "execution_count": 59,
   "metadata": {},
   "outputs": [],
   "source": [
    "def flatten(xs):\n",
    "    res = []\n",
    "    def loop(ys):\n",
    "        n=0\n",
    "        while n!=len(ys):\n",
    "            if isinstance(ys[n], list):\n",
    "                loop(ys[n])\n",
    "                n+=1\n",
    "            else:\n",
    "                res.append(ys[n])\n",
    "                n+=1\n",
    "    loop(xs)\n",
    "    return res"
   ]
  },
  {
   "cell_type": "code",
   "execution_count": 41,
   "metadata": {},
   "outputs": [
    {
     "data": {
      "text/plain": [
       "[1, 2, 5, 4, 3]"
      ]
     },
     "execution_count": 41,
     "metadata": {},
     "output_type": "execute_result"
    }
   ],
   "source": [
    "flatten([1,2,[[[[5]]]],4,[3]])"
   ]
  },
  {
   "cell_type": "code",
   "execution_count": 47,
   "metadata": {},
   "outputs": [
    {
     "data": {
      "text/plain": [
       "[1, 2, 'a', 3, 234]"
      ]
     },
     "execution_count": 47,
     "metadata": {},
     "output_type": "execute_result"
    }
   ],
   "source": [
    "flatten([1,2,['a'],3,[234]])"
   ]
  },
  {
   "cell_type": "code",
   "execution_count": 58,
   "metadata": {},
   "outputs": [
    {
     "data": {
      "text/plain": [
       "[1, -2, 4, 1, 2, 3]"
      ]
     },
     "execution_count": 58,
     "metadata": {},
     "output_type": "execute_result"
    }
   ],
   "source": [
    "flatten([1,[-2,[[[4]]]],1,2,3])"
   ]
  },
  {
   "cell_type": "markdown",
   "metadata": {},
   "source": [
    "파이썬에서 iterator를 사용하지 않고 nested list의 순수한 값만 찾는 방법은 2가지입니다. 정규표현식을 이용하여 split하는 방법이 첫번째이며, 두번째 방법으로는 재귀함수를 만들어서 자료형을 확인하는 isinstance() 함수를 사용해 자료형이 리스트인 경우 다시 함수를 호출하여 본래의 값을 찾을 때까지 돌고, 아닌 경우 값을 리스트에 append합니다. 이 과정을 반복한 뒤 전체 결과를 반환합니다."
   ]
  },
  {
   "cell_type": "code",
   "execution_count": 67,
   "metadata": {},
   "outputs": [
    {
     "name": "stdout",
     "output_type": "stream",
     "text": [
      "1\n",
      "-2\n",
      "4\n",
      "0\n",
      "5\n",
      "3\n",
      "result :  11\n"
     ]
    }
   ],
   "source": [
    "data = [1,[-2,[[[4]]],[0,5],[],3],[4],2,7]\n",
    "sum =0\n",
    "n=0\n",
    "r_data=[]\n",
    "r_data = flatten(data)\n",
    "\n",
    "while n != len(r_data):\n",
    "    print(r_data[n])\n",
    "    sum += r_data[n]\n",
    "    if sum > 10:\n",
    "        break\n",
    "    n+=1\n",
    "print(\"result : \",sum)"
   ]
  },
  {
   "cell_type": "markdown",
   "metadata": {},
   "source": [
    "**참조**   \n",
    "https://stackoverflow.com/questions/58738127/trying-to-quicksort-a-linked-list-in-python   \n",
    "https://stackoverflow.com/questions/2158395/flatten-an-irregular-list-of-lists"
   ]
  }
 ],
 "metadata": {
  "kernelspec": {
   "display_name": "Python 3",
   "language": "python",
   "name": "python3"
  }
 },
 "nbformat": 4,
 "nbformat_minor": 4
}
